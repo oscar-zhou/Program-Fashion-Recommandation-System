{
 "cells": [
  {
   "attachments": {},
   "cell_type": "markdown",
   "metadata": {},
   "source": [
    "### OB第二次給的資料(包括主款以及搭配款標籤)"
   ]
  },
  {
   "cell_type": "code",
   "execution_count": 2,
   "metadata": {},
   "outputs": [
    {
     "name": "stderr",
     "output_type": "stream",
     "text": [
      "c:\\Users\\YUDE ZHOU\\miniconda3\\envs\\pytorch8019\\lib\\site-packages\\tqdm\\auto.py:22: TqdmWarning: IProgress not found. Please update jupyter and ipywidgets. See https://ipywidgets.readthedocs.io/en/stable/user_install.html\n",
      "  from .autonotebook import tqdm as notebook_tqdm\n",
      "c:\\Users\\YUDE ZHOU\\miniconda3\\envs\\pytorch8019\\lib\\site-packages\\torchvision\\io\\image.py:13: UserWarning: Failed to load image Python extension: \n",
      "  warn(f\"Failed to load image Python extension: {e}\")\n"
     ]
    }
   ],
   "source": [
    "import pandas as pd\n",
    "from pandas.core.frame import DataFrame\n",
    "import torch\n",
    "from torchvision import transforms\n",
    "from PIL import Image\n",
    "import os\n",
    "from tqdm import tqdm\n",
    "import cv2\n",
    "import numpy as np\n",
    "from torchvision import datasets, transforms\n",
    "\n",
    "import torch.nn as nn\n",
    "import torch.nn.functional as F\n",
    "from torchvision import models\n",
    "import torch.optim as optim\n",
    "from torch.autograd import Variable\n",
    "\n",
    "import shutil\n",
    "from shutil import copy\n"
   ]
  },
  {
   "cell_type": "markdown",
   "metadata": {},
   "source": [
    "---"
   ]
  },
  {
   "attachments": {},
   "cell_type": "markdown",
   "metadata": {},
   "source": [
    "### 裁減@1資料夾的圖片"
   ]
  },
  {
   "cell_type": "code",
   "execution_count": 3,
   "metadata": {},
   "outputs": [
    {
     "data": {
      "text/plain": [
       "11263"
      ]
     },
     "execution_count": 3,
     "metadata": {},
     "output_type": "execute_result"
    }
   ],
   "source": [
    "#主款+搭配款\n",
    "at_one = os.listdir('@1jpg')\n",
    "len(at_one)"
   ]
  },
  {
   "cell_type": "code",
   "execution_count": 4,
   "metadata": {},
   "outputs": [
    {
     "name": "stderr",
     "output_type": "stream",
     "text": [
      " 98%|█████████▊| 11025/11263 [08:22<00:10, 21.93it/s]\n"
     ]
    }
   ],
   "source": [
    "if os.path.exists(\"crop_@1jpg\") == False:\n",
    "    os.mkdir(\"crop_@1jpg\")\n",
    "cant_crop = []\n",
    "\n",
    "transform=transforms.Compose([\n",
    "    transforms.Resize(224), \n",
    "    transforms.CenterCrop([112,150]),\n",
    "])\n",
    "\n",
    "pbar=tqdm(total=len(at_one))\n",
    "for img in at_one:\n",
    "    try:\n",
    "        path=\"@1jpg/\"+img\n",
    "        pil_img=Image.open(path)\n",
    "        ttt=transform(pil_img)\n",
    "        save_dir=\"crop_@1jpg/\"+img\n",
    "        ttt.save(save_dir)\n",
    "        pbar.update(1)\n",
    "    except:\n",
    "        cant_crop.append(img)\n",
    "pbar.close()"
   ]
  },
  {
   "cell_type": "code",
   "execution_count": 11,
   "metadata": {},
   "outputs": [
    {
     "data": {
      "text/plain": [
       "['A1316821.jpg',\n",
       " 'A16650.jpg',\n",
       " 'AA3465.jpg',\n",
       " 'AB10661.jpg',\n",
       " 'AB11371.jpg',\n",
       " 'AB12187.jpg',\n",
       " 'AB12267.jpg',\n",
       " 'AB1243.jpg',\n",
       " 'AB13166.jpg',\n",
       " 'AB13286.jpg',\n",
       " 'AB13289.jpg',\n",
       " 'AB13356.jpg',\n",
       " 'AB13364.jpg',\n",
       " 'AB13461.jpg',\n",
       " 'AB13478.jpg',\n",
       " 'AB13688.jpg',\n",
       " 'AB13720.jpg',\n",
       " 'AB13775.jpg',\n",
       " 'AB13922.jpg',\n",
       " 'AB14165.jpg',\n",
       " 'AB14430.jpg',\n",
       " 'AB7881.jpg',\n",
       " 'AB8200.jpg',\n",
       " 'AB9130.jpg',\n",
       " 'AB9142.jpg',\n",
       " 'AB9151.jpg',\n",
       " 'BA3297.jpg',\n",
       " 'BA4599.jpg',\n",
       " 'BA4623.jpg',\n",
       " 'BA4739.jpg',\n",
       " 'BA5049.jpg',\n",
       " 'BA5402.jpg',\n",
       " 'BA5403.jpg',\n",
       " 'BA5408.jpg',\n",
       " 'BA5411.jpg',\n",
       " 'BA5435.jpg',\n",
       " 'BA5440.jpg',\n",
       " 'BA5489.jpg',\n",
       " 'BA5499.jpg',\n",
       " 'BA5547.jpg',\n",
       " 'BA5621.jpg',\n",
       " 'BA5748.jpg',\n",
       " 'BA5749.jpg',\n",
       " 'BA5752.jpg',\n",
       " 'BA5794.jpg',\n",
       " 'BA5840.jpg',\n",
       " 'BA5951.jpg',\n",
       " 'BA5975.jpg',\n",
       " 'BA6023.jpg',\n",
       " 'BA6029.jpg',\n",
       " 'BA6132.jpg',\n",
       " 'CA1902.jpg',\n",
       " 'CA1919.jpg',\n",
       " 'CA2052.jpg',\n",
       " 'CA2060.jpg',\n",
       " 'CA2077.jpg',\n",
       " 'CA2081.jpg',\n",
       " 'CA2093.jpg',\n",
       " 'CA2215.jpg',\n",
       " 'CA2951.jpg',\n",
       " 'CAZ033.jpg',\n",
       " 'DA3516.jpg',\n",
       " 'DA7332.jpg',\n",
       " 'DD6638.jpg',\n",
       " 'EA0997.jpg',\n",
       " 'EA20097.jpg',\n",
       " 'EA2373.jpg',\n",
       " 'EA2433.jpg',\n",
       " 'EA2510.jpg',\n",
       " 'EA2645.jpg',\n",
       " 'EA2764.jpg',\n",
       " 'EA2769.jpg',\n",
       " 'EA2828.jpg',\n",
       " 'EA29003.jpg',\n",
       " 'EA5203.jpg',\n",
       " 'EA686.jpg',\n",
       " 'FA2019.jpg',\n",
       " 'FA2029.jpg',\n",
       " 'FA2041.jpg',\n",
       " 'FA2121.jpg',\n",
       " 'FA25624.jpg',\n",
       " 'FA2959.jpg',\n",
       " 'FA3141.jpg',\n",
       " 'FA6089.jpg',\n",
       " 'FA7376.jpg',\n",
       " 'GA3304.jpg',\n",
       " 'IR0001.jpg',\n",
       " 'IR0014.jpg',\n",
       " 'IR0046.jpg',\n",
       " 'IR0065.jpg',\n",
       " 'IR0084.jpg',\n",
       " 'IR0085.jpg',\n",
       " 'IR0119.jpg',\n",
       " 'IR0131.jpg',\n",
       " 'IR0132.jpg',\n",
       " 'IR0140.jpg',\n",
       " 'IR0224.jpg',\n",
       " 'IR0231.jpg',\n",
       " 'IR0240.jpg',\n",
       " 'IR0241.jpg',\n",
       " 'IR0248.jpg',\n",
       " 'IR0252.jpg',\n",
       " 'IR0256.jpg',\n",
       " 'IR0265.jpg',\n",
       " 'IR0267.jpg',\n",
       " 'IR0268.jpg',\n",
       " 'IR0272.jpg',\n",
       " 'IR0275.jpg',\n",
       " 'IR0277.jpg',\n",
       " 'IR0278.jpg',\n",
       " 'IR0281.jpg',\n",
       " 'IR0289.jpg',\n",
       " 'IR0291.jpg',\n",
       " 'IR0300.jpg',\n",
       " 'IR0308.jpg',\n",
       " 'IR0310.jpg',\n",
       " 'IR0320.jpg',\n",
       " 'IR0332.jpg',\n",
       " 'IR0347.jpg',\n",
       " 'IR0369.jpg',\n",
       " 'IR0381.jpg',\n",
       " 'IR0390.jpg',\n",
       " 'IR0397.jpg',\n",
       " 'IR0398.jpg',\n",
       " 'IR0405.jpg',\n",
       " 'IR0427.jpg',\n",
       " 'IR0431.jpg',\n",
       " 'IR0456.jpg',\n",
       " 'IR0461.jpg',\n",
       " 'IR0475.jpg',\n",
       " 'IR0492.jpg',\n",
       " 'IR0497.jpg',\n",
       " 'IR0503.jpg',\n",
       " 'IR0523.jpg',\n",
       " 'IR0543.jpg',\n",
       " 'IR0550.jpg',\n",
       " 'IR0557.jpg',\n",
       " 'IR0566.jpg',\n",
       " 'IR0569.jpg',\n",
       " 'IR0570.jpg',\n",
       " 'IR0577.jpg',\n",
       " 'IR0587.jpg',\n",
       " 'IR0615.jpg',\n",
       " 'IR0636.jpg',\n",
       " 'IR0638.jpg',\n",
       " 'IR0644.jpg',\n",
       " 'IR0677.jpg',\n",
       " 'IR0680.jpg',\n",
       " 'IR0688.jpg',\n",
       " 'IR0689.jpg',\n",
       " 'IR0700.jpg',\n",
       " 'IR0702.jpg',\n",
       " 'IR0708.jpg',\n",
       " 'IR0709.jpg',\n",
       " 'IR0712.jpg',\n",
       " 'IR0714.jpg',\n",
       " 'IR0716.jpg',\n",
       " 'IR0717.jpg',\n",
       " 'IR0722.jpg',\n",
       " 'IR0738.jpg',\n",
       " 'IR0743.jpg',\n",
       " 'IR0749.jpg',\n",
       " 'IR0750.jpg',\n",
       " 'IR0753.jpg',\n",
       " 'IR0762.jpg',\n",
       " 'IR0771.jpg',\n",
       " 'IR0772.jpg',\n",
       " 'IR0776.jpg',\n",
       " 'IR0780.jpg',\n",
       " 'IR0781.jpg',\n",
       " 'IR0789.jpg',\n",
       " 'IR0790.jpg',\n",
       " 'IR0791.jpg',\n",
       " 'IR0808.jpg',\n",
       " 'IR0812.jpg',\n",
       " 'IR0827.jpg',\n",
       " 'IR0830.jpg',\n",
       " 'IR0852.jpg',\n",
       " 'IR0858.jpg',\n",
       " 'IR0859.jpg',\n",
       " 'IR0870.jpg',\n",
       " 'IR0871.jpg',\n",
       " 'IR0874.jpg',\n",
       " 'IR0878.jpg',\n",
       " 'IR0881.jpg',\n",
       " 'IR0896.jpg',\n",
       " 'IR0904.jpg',\n",
       " 'IR0910.jpg',\n",
       " 'IR0911.jpg',\n",
       " 'IR0922.jpg',\n",
       " 'IR0932.jpg',\n",
       " 'IR0934.jpg',\n",
       " 'IR0941.jpg',\n",
       " 'IR0949.jpg',\n",
       " 'IR0976.jpg',\n",
       " 'IR0978.jpg',\n",
       " 'KB0823.jpg',\n",
       " 'KB1104.jpg',\n",
       " 'KG0137.jpg',\n",
       " 'KG0652.jpg',\n",
       " 'KG0657.jpg',\n",
       " 'KG0909.jpg',\n",
       " 'KG0921.jpg',\n",
       " 'KG11372.jpg',\n",
       " 'KG1162.jpg',\n",
       " 'KG12573.jpg',\n",
       " 'KG13221.jpg',\n",
       " 'KG9078.jpg',\n",
       " 'KIS0846.jpg',\n",
       " 'KL0144.jpg',\n",
       " 'KL0489.jpg',\n",
       " 'KL0920.jpg',\n",
       " 'KS0433.jpg',\n",
       " 'KS0578.jpg',\n",
       " 'KS0780.jpg',\n",
       " 'KT0782.jpg',\n",
       " 'QA1085.jpg',\n",
       " 'QA1352.jpg',\n",
       " 'QA1503.jpg',\n",
       " 'SD0176.jpg',\n",
       " 'SL1041.jpg',\n",
       " 'SL1520.jpg',\n",
       " 'VA0663.jpg',\n",
       " 'VA0667.jpg',\n",
       " 'VB0593.jpg',\n",
       " 'VC1072.jpg',\n",
       " 'ZA2815.jpg',\n",
       " 'ZA2947.jpg',\n",
       " 'ZB0802.jpg',\n",
       " 'ZB2279.jpg',\n",
       " 'ZC1594.jpg',\n",
       " 'ZC1667.jpg',\n",
       " 'ZC1795.jpg',\n",
       " 'ZC1934.jpg',\n",
       " 'ZC1999.jpg',\n",
       " 'ZM0023.jpg',\n",
       " '牛仔襯衫.jpg',\n",
       " '白色牛仔褲.jpg']"
      ]
     },
     "execution_count": 11,
     "metadata": {},
     "output_type": "execute_result"
    }
   ],
   "source": [
    "cant_crop"
   ]
  },
  {
   "cell_type": "code",
   "execution_count": 19,
   "metadata": {},
   "outputs": [
    {
     "name": "stderr",
     "output_type": "stream",
     "text": [
      "100%|██████████| 238/238 [00:01<00:00, 143.69it/s]\n"
     ]
    },
    {
     "data": {
      "text/html": [
       "<div>\n",
       "<style scoped>\n",
       "    .dataframe tbody tr th:only-of-type {\n",
       "        vertical-align: middle;\n",
       "    }\n",
       "\n",
       "    .dataframe tbody tr th {\n",
       "        vertical-align: top;\n",
       "    }\n",
       "\n",
       "    .dataframe thead th {\n",
       "        text-align: right;\n",
       "    }\n",
       "</style>\n",
       "<table border=\"1\" class=\"dataframe\">\n",
       "  <thead>\n",
       "    <tr style=\"text-align: right;\">\n",
       "      <th></th>\n",
       "      <th>款號</th>\n",
       "      <th>款號品類</th>\n",
       "      <th>圖片</th>\n",
       "      <th>搭配款</th>\n",
       "      <th>搭配款品類</th>\n",
       "      <th>搭配款主圖</th>\n",
       "      <th>平拍圖</th>\n",
       "    </tr>\n",
       "    <tr>\n",
       "      <th>index</th>\n",
       "      <th></th>\n",
       "      <th></th>\n",
       "      <th></th>\n",
       "      <th></th>\n",
       "      <th></th>\n",
       "      <th></th>\n",
       "      <th></th>\n",
       "    </tr>\n",
       "  </thead>\n",
       "  <tbody>\n",
       "    <tr>\n",
       "      <th>0</th>\n",
       "      <td>AB10078</td>\n",
       "      <td>上衣</td>\n",
       "      <td>https://image.obdesign.com.tw/catalog/products...</td>\n",
       "      <td>BA4933</td>\n",
       "      <td>褲子</td>\n",
       "      <td>https://image.obdesign.com.tw/catalog/products...</td>\n",
       "      <td>NaN</td>\n",
       "    </tr>\n",
       "    <tr>\n",
       "      <th>1</th>\n",
       "      <td>AB10078</td>\n",
       "      <td>上衣</td>\n",
       "      <td>https://image.obdesign.com.tw/catalog/products...</td>\n",
       "      <td>BA4789</td>\n",
       "      <td>褲子</td>\n",
       "      <td>https://image.obdesign.com.tw/catalog/products...</td>\n",
       "      <td>NaN</td>\n",
       "    </tr>\n",
       "    <tr>\n",
       "      <th>2</th>\n",
       "      <td>AB10113</td>\n",
       "      <td>上衣</td>\n",
       "      <td>https://image.obdesign.com.tw/catalog/products...</td>\n",
       "      <td>BA5022</td>\n",
       "      <td>褲子</td>\n",
       "      <td>https://image.obdesign.com.tw/catalog/products...</td>\n",
       "      <td>NaN</td>\n",
       "    </tr>\n",
       "    <tr>\n",
       "      <th>3</th>\n",
       "      <td>AB10113</td>\n",
       "      <td>上衣</td>\n",
       "      <td>https://image.obdesign.com.tw/catalog/products...</td>\n",
       "      <td>BA5070</td>\n",
       "      <td>褲子</td>\n",
       "      <td>https://image.obdesign.com.tw/catalog/products...</td>\n",
       "      <td>NaN</td>\n",
       "    </tr>\n",
       "    <tr>\n",
       "      <th>4</th>\n",
       "      <td>AB10113</td>\n",
       "      <td>上衣</td>\n",
       "      <td>https://image.obdesign.com.tw/catalog/products...</td>\n",
       "      <td>BA5025</td>\n",
       "      <td>褲子</td>\n",
       "      <td>https://image.obdesign.com.tw/catalog/products...</td>\n",
       "      <td>NaN</td>\n",
       "    </tr>\n",
       "    <tr>\n",
       "      <th>...</th>\n",
       "      <td>...</td>\n",
       "      <td>...</td>\n",
       "      <td>...</td>\n",
       "      <td>...</td>\n",
       "      <td>...</td>\n",
       "      <td>...</td>\n",
       "      <td>...</td>\n",
       "    </tr>\n",
       "    <tr>\n",
       "      <th>5578</th>\n",
       "      <td>QA1629</td>\n",
       "      <td>褲子</td>\n",
       "      <td>https://image.obdesign.com.tw/catalog/products...</td>\n",
       "      <td>QA1224</td>\n",
       "      <td>上衣</td>\n",
       "      <td>https://image.obdesign.com.tw/catalog/products...</td>\n",
       "      <td>NaN</td>\n",
       "    </tr>\n",
       "    <tr>\n",
       "      <th>5579</th>\n",
       "      <td>QA1632</td>\n",
       "      <td>褲子</td>\n",
       "      <td>https://image.obdesign.com.tw/catalog/products...</td>\n",
       "      <td>QA1388</td>\n",
       "      <td>上衣</td>\n",
       "      <td>https://image.obdesign.com.tw/catalog/products...</td>\n",
       "      <td>https://image.obdesign.com.tw/catalog/products...</td>\n",
       "    </tr>\n",
       "    <tr>\n",
       "      <th>5580</th>\n",
       "      <td>QA1632</td>\n",
       "      <td>褲子</td>\n",
       "      <td>https://image.obdesign.com.tw/catalog/products...</td>\n",
       "      <td>QA1634</td>\n",
       "      <td>上衣</td>\n",
       "      <td>https://image.obdesign.com.tw/catalog/products...</td>\n",
       "      <td>https://image.obdesign.com.tw/catalog/products...</td>\n",
       "    </tr>\n",
       "    <tr>\n",
       "      <th>5581</th>\n",
       "      <td>QA1636</td>\n",
       "      <td>褲子</td>\n",
       "      <td>https://image.obdesign.com.tw/catalog/products...</td>\n",
       "      <td>QA1224</td>\n",
       "      <td>上衣</td>\n",
       "      <td>https://image.obdesign.com.tw/catalog/products...</td>\n",
       "      <td>NaN</td>\n",
       "    </tr>\n",
       "    <tr>\n",
       "      <th>5582</th>\n",
       "      <td>QA1636</td>\n",
       "      <td>褲子</td>\n",
       "      <td>https://image.obdesign.com.tw/catalog/products...</td>\n",
       "      <td>QA1480</td>\n",
       "      <td>上衣</td>\n",
       "      <td>https://image.obdesign.com.tw/catalog/products...</td>\n",
       "      <td>https://image.obdesign.com.tw/catalog/products...</td>\n",
       "    </tr>\n",
       "  </tbody>\n",
       "</table>\n",
       "<p>11009 rows × 7 columns</p>\n",
       "</div>"
      ],
      "text/plain": [
       "            款號 款號品類                                                 圖片  \\\n",
       "index                                                                    \n",
       "0      AB10078   上衣  https://image.obdesign.com.tw/catalog/products...   \n",
       "1      AB10078   上衣  https://image.obdesign.com.tw/catalog/products...   \n",
       "2      AB10113   上衣  https://image.obdesign.com.tw/catalog/products...   \n",
       "3      AB10113   上衣  https://image.obdesign.com.tw/catalog/products...   \n",
       "4      AB10113   上衣  https://image.obdesign.com.tw/catalog/products...   \n",
       "...        ...  ...                                                ...   \n",
       "5578    QA1629   褲子  https://image.obdesign.com.tw/catalog/products...   \n",
       "5579    QA1632   褲子  https://image.obdesign.com.tw/catalog/products...   \n",
       "5580    QA1632   褲子  https://image.obdesign.com.tw/catalog/products...   \n",
       "5581    QA1636   褲子  https://image.obdesign.com.tw/catalog/products...   \n",
       "5582    QA1636   褲子  https://image.obdesign.com.tw/catalog/products...   \n",
       "\n",
       "          搭配款 搭配款品類                                              搭配款主圖  \\\n",
       "index                                                                    \n",
       "0      BA4933    褲子  https://image.obdesign.com.tw/catalog/products...   \n",
       "1      BA4789    褲子  https://image.obdesign.com.tw/catalog/products...   \n",
       "2      BA5022    褲子  https://image.obdesign.com.tw/catalog/products...   \n",
       "3      BA5070    褲子  https://image.obdesign.com.tw/catalog/products...   \n",
       "4      BA5025    褲子  https://image.obdesign.com.tw/catalog/products...   \n",
       "...       ...   ...                                                ...   \n",
       "5578   QA1224    上衣  https://image.obdesign.com.tw/catalog/products...   \n",
       "5579   QA1388    上衣  https://image.obdesign.com.tw/catalog/products...   \n",
       "5580   QA1634    上衣  https://image.obdesign.com.tw/catalog/products...   \n",
       "5581   QA1224    上衣  https://image.obdesign.com.tw/catalog/products...   \n",
       "5582   QA1480    上衣  https://image.obdesign.com.tw/catalog/products...   \n",
       "\n",
       "                                                     平拍圖  \n",
       "index                                                     \n",
       "0                                                    NaN  \n",
       "1                                                    NaN  \n",
       "2                                                    NaN  \n",
       "3                                                    NaN  \n",
       "4                                                    NaN  \n",
       "...                                                  ...  \n",
       "5578                                                 NaN  \n",
       "5579   https://image.obdesign.com.tw/catalog/products...  \n",
       "5580   https://image.obdesign.com.tw/catalog/products...  \n",
       "5581                                                 NaN  \n",
       "5582   https://image.obdesign.com.tw/catalog/products...  \n",
       "\n",
       "[11009 rows x 7 columns]"
      ]
     },
     "execution_count": 19,
     "metadata": {},
     "output_type": "execute_result"
    }
   ],
   "source": [
    "#根據因為無法讀取導致沒辦法裁減的圖片 從table中刪掉\n",
    "fit_df = pd.read_csv(\"OB second/圖片搭配_款號搭配(已去重，改網址).csv\",index_col=0)\n",
    "for i,item in enumerate(tqdm(cant_crop)):\n",
    "    item_no = str(item)[:-4]\n",
    "    if item_no in list(fit_df['款號']):\n",
    "        fit_df.drop(fit_df.loc[fit_df['款號'] == str(item)[:-4]].index, inplace=True)\n",
    "    if item_no in list(fit_df['搭配款']):\n",
    "        fit_df.drop(fit_df.loc[fit_df['搭配款'] == str(item)[:-4]].index, inplace=True)\n",
    "fit_df.to_csv(\"OB second/圖片搭配_款號搭配(已去重，改網址，扣裁減失敗).csv\",encoding='utf-8-sig')\n",
    "fit_df"
   ]
  },
  {
   "attachments": {},
   "cell_type": "markdown",
   "metadata": {},
   "source": [
    "### 根據主款_搭配款的table標籤，把兩張圖片拼在一起"
   ]
  },
  {
   "attachments": {},
   "cell_type": "markdown",
   "metadata": {},
   "source": [
    "因為怕之後要篩選不合格的圖片 所以先merge再抽樣"
   ]
  },
  {
   "cell_type": "code",
   "execution_count": 20,
   "metadata": {},
   "outputs": [
    {
     "data": {
      "text/html": [
       "<div>\n",
       "<style scoped>\n",
       "    .dataframe tbody tr th:only-of-type {\n",
       "        vertical-align: middle;\n",
       "    }\n",
       "\n",
       "    .dataframe tbody tr th {\n",
       "        vertical-align: top;\n",
       "    }\n",
       "\n",
       "    .dataframe thead th {\n",
       "        text-align: right;\n",
       "    }\n",
       "</style>\n",
       "<table border=\"1\" class=\"dataframe\">\n",
       "  <thead>\n",
       "    <tr style=\"text-align: right;\">\n",
       "      <th></th>\n",
       "      <th>款號</th>\n",
       "      <th>款號品類</th>\n",
       "      <th>圖片</th>\n",
       "      <th>搭配款</th>\n",
       "      <th>搭配款品類</th>\n",
       "      <th>搭配款主圖</th>\n",
       "      <th>平拍圖</th>\n",
       "    </tr>\n",
       "    <tr>\n",
       "      <th>index</th>\n",
       "      <th></th>\n",
       "      <th></th>\n",
       "      <th></th>\n",
       "      <th></th>\n",
       "      <th></th>\n",
       "      <th></th>\n",
       "      <th></th>\n",
       "    </tr>\n",
       "  </thead>\n",
       "  <tbody>\n",
       "    <tr>\n",
       "      <th>0</th>\n",
       "      <td>AB10078</td>\n",
       "      <td>上衣</td>\n",
       "      <td>https://image.obdesign.com.tw/catalog/products...</td>\n",
       "      <td>BA4933</td>\n",
       "      <td>褲子</td>\n",
       "      <td>https://image.obdesign.com.tw/catalog/products...</td>\n",
       "      <td>NaN</td>\n",
       "    </tr>\n",
       "    <tr>\n",
       "      <th>1</th>\n",
       "      <td>AB10078</td>\n",
       "      <td>上衣</td>\n",
       "      <td>https://image.obdesign.com.tw/catalog/products...</td>\n",
       "      <td>BA4789</td>\n",
       "      <td>褲子</td>\n",
       "      <td>https://image.obdesign.com.tw/catalog/products...</td>\n",
       "      <td>NaN</td>\n",
       "    </tr>\n",
       "    <tr>\n",
       "      <th>2</th>\n",
       "      <td>AB10113</td>\n",
       "      <td>上衣</td>\n",
       "      <td>https://image.obdesign.com.tw/catalog/products...</td>\n",
       "      <td>BA5022</td>\n",
       "      <td>褲子</td>\n",
       "      <td>https://image.obdesign.com.tw/catalog/products...</td>\n",
       "      <td>NaN</td>\n",
       "    </tr>\n",
       "    <tr>\n",
       "      <th>3</th>\n",
       "      <td>AB10113</td>\n",
       "      <td>上衣</td>\n",
       "      <td>https://image.obdesign.com.tw/catalog/products...</td>\n",
       "      <td>BA5070</td>\n",
       "      <td>褲子</td>\n",
       "      <td>https://image.obdesign.com.tw/catalog/products...</td>\n",
       "      <td>NaN</td>\n",
       "    </tr>\n",
       "    <tr>\n",
       "      <th>4</th>\n",
       "      <td>AB10113</td>\n",
       "      <td>上衣</td>\n",
       "      <td>https://image.obdesign.com.tw/catalog/products...</td>\n",
       "      <td>BA5025</td>\n",
       "      <td>褲子</td>\n",
       "      <td>https://image.obdesign.com.tw/catalog/products...</td>\n",
       "      <td>NaN</td>\n",
       "    </tr>\n",
       "    <tr>\n",
       "      <th>...</th>\n",
       "      <td>...</td>\n",
       "      <td>...</td>\n",
       "      <td>...</td>\n",
       "      <td>...</td>\n",
       "      <td>...</td>\n",
       "      <td>...</td>\n",
       "      <td>...</td>\n",
       "    </tr>\n",
       "    <tr>\n",
       "      <th>5578</th>\n",
       "      <td>QA1629</td>\n",
       "      <td>褲子</td>\n",
       "      <td>https://image.obdesign.com.tw/catalog/products...</td>\n",
       "      <td>QA1224</td>\n",
       "      <td>上衣</td>\n",
       "      <td>https://image.obdesign.com.tw/catalog/products...</td>\n",
       "      <td>NaN</td>\n",
       "    </tr>\n",
       "    <tr>\n",
       "      <th>5579</th>\n",
       "      <td>QA1632</td>\n",
       "      <td>褲子</td>\n",
       "      <td>https://image.obdesign.com.tw/catalog/products...</td>\n",
       "      <td>QA1388</td>\n",
       "      <td>上衣</td>\n",
       "      <td>https://image.obdesign.com.tw/catalog/products...</td>\n",
       "      <td>https://image.obdesign.com.tw/catalog/products...</td>\n",
       "    </tr>\n",
       "    <tr>\n",
       "      <th>5580</th>\n",
       "      <td>QA1632</td>\n",
       "      <td>褲子</td>\n",
       "      <td>https://image.obdesign.com.tw/catalog/products...</td>\n",
       "      <td>QA1634</td>\n",
       "      <td>上衣</td>\n",
       "      <td>https://image.obdesign.com.tw/catalog/products...</td>\n",
       "      <td>https://image.obdesign.com.tw/catalog/products...</td>\n",
       "    </tr>\n",
       "    <tr>\n",
       "      <th>5581</th>\n",
       "      <td>QA1636</td>\n",
       "      <td>褲子</td>\n",
       "      <td>https://image.obdesign.com.tw/catalog/products...</td>\n",
       "      <td>QA1224</td>\n",
       "      <td>上衣</td>\n",
       "      <td>https://image.obdesign.com.tw/catalog/products...</td>\n",
       "      <td>NaN</td>\n",
       "    </tr>\n",
       "    <tr>\n",
       "      <th>5582</th>\n",
       "      <td>QA1636</td>\n",
       "      <td>褲子</td>\n",
       "      <td>https://image.obdesign.com.tw/catalog/products...</td>\n",
       "      <td>QA1480</td>\n",
       "      <td>上衣</td>\n",
       "      <td>https://image.obdesign.com.tw/catalog/products...</td>\n",
       "      <td>https://image.obdesign.com.tw/catalog/products...</td>\n",
       "    </tr>\n",
       "  </tbody>\n",
       "</table>\n",
       "<p>11009 rows × 7 columns</p>\n",
       "</div>"
      ],
      "text/plain": [
       "            款號 款號品類                                                 圖片  \\\n",
       "index                                                                    \n",
       "0      AB10078   上衣  https://image.obdesign.com.tw/catalog/products...   \n",
       "1      AB10078   上衣  https://image.obdesign.com.tw/catalog/products...   \n",
       "2      AB10113   上衣  https://image.obdesign.com.tw/catalog/products...   \n",
       "3      AB10113   上衣  https://image.obdesign.com.tw/catalog/products...   \n",
       "4      AB10113   上衣  https://image.obdesign.com.tw/catalog/products...   \n",
       "...        ...  ...                                                ...   \n",
       "5578    QA1629   褲子  https://image.obdesign.com.tw/catalog/products...   \n",
       "5579    QA1632   褲子  https://image.obdesign.com.tw/catalog/products...   \n",
       "5580    QA1632   褲子  https://image.obdesign.com.tw/catalog/products...   \n",
       "5581    QA1636   褲子  https://image.obdesign.com.tw/catalog/products...   \n",
       "5582    QA1636   褲子  https://image.obdesign.com.tw/catalog/products...   \n",
       "\n",
       "          搭配款 搭配款品類                                              搭配款主圖  \\\n",
       "index                                                                    \n",
       "0      BA4933    褲子  https://image.obdesign.com.tw/catalog/products...   \n",
       "1      BA4789    褲子  https://image.obdesign.com.tw/catalog/products...   \n",
       "2      BA5022    褲子  https://image.obdesign.com.tw/catalog/products...   \n",
       "3      BA5070    褲子  https://image.obdesign.com.tw/catalog/products...   \n",
       "4      BA5025    褲子  https://image.obdesign.com.tw/catalog/products...   \n",
       "...       ...   ...                                                ...   \n",
       "5578   QA1224    上衣  https://image.obdesign.com.tw/catalog/products...   \n",
       "5579   QA1388    上衣  https://image.obdesign.com.tw/catalog/products...   \n",
       "5580   QA1634    上衣  https://image.obdesign.com.tw/catalog/products...   \n",
       "5581   QA1224    上衣  https://image.obdesign.com.tw/catalog/products...   \n",
       "5582   QA1480    上衣  https://image.obdesign.com.tw/catalog/products...   \n",
       "\n",
       "                                                     平拍圖  \n",
       "index                                                     \n",
       "0                                                    NaN  \n",
       "1                                                    NaN  \n",
       "2                                                    NaN  \n",
       "3                                                    NaN  \n",
       "4                                                    NaN  \n",
       "...                                                  ...  \n",
       "5578                                                 NaN  \n",
       "5579   https://image.obdesign.com.tw/catalog/products...  \n",
       "5580   https://image.obdesign.com.tw/catalog/products...  \n",
       "5581                                                 NaN  \n",
       "5582   https://image.obdesign.com.tw/catalog/products...  \n",
       "\n",
       "[11009 rows x 7 columns]"
      ]
     },
     "execution_count": 20,
     "metadata": {},
     "output_type": "execute_result"
    }
   ],
   "source": [
    "fit_df = pd.read_csv(\"OB second/圖片搭配_款號搭配(已去重，改網址，扣裁減失敗).csv\",index_col=0)\n",
    "fit_df"
   ]
  },
  {
   "cell_type": "code",
   "execution_count": 23,
   "metadata": {},
   "outputs": [
    {
     "name": "stderr",
     "output_type": "stream",
     "text": [
      "11009it [01:33, 117.17it/s]9 [01:33<00:00, 117.05it/s]\n",
      "100%|██████████| 11009/11009 [01:33<00:00, 117.17it/s]\n"
     ]
    }
   ],
   "source": [
    "if os.path.exists(\"merge_fit\") == False:\n",
    "    os.mkdir(\"merge_fit\")\n",
    "def merge_img(df):\n",
    "\n",
    "    pbar=tqdm(total=len(fit_df))    \n",
    "    for i,item in tqdm(fit_df.iterrows()):\n",
    "        main = item[0]\n",
    "        sub = item[3]\n",
    "        main_path = \"crop_@1jpg/\" + main + \".jpg\"\n",
    "        sub_path = \"crop_@1jpg/\" + sub + \".jpg\"\n",
    "        main_img = cv2.imread(main_path)\n",
    "        sub_img = cv2.imread(sub_path)\n",
    "        fit_img = np.vstack([main_img,sub_img])\n",
    "        fit_img_path = \"merge_fit/\" + \"fit\" + str(i) + \".png\" \n",
    "        cv2.imwrite(fit_img_path,fit_img)\n",
    "        pbar.update(1)\n",
    "merge_img(fit_df)        "
   ]
  },
  {
   "attachments": {},
   "cell_type": "markdown",
   "metadata": {},
   "source": [
    "---"
   ]
  },
  {
   "cell_type": "markdown",
   "metadata": {},
   "source": [
    "### 利用全部的新OB資料集"
   ]
  },
  {
   "cell_type": "code",
   "execution_count": 4,
   "metadata": {},
   "outputs": [
    {
     "name": "stdout",
     "output_type": "stream",
     "text": [
      "fit have 3687 pics\n",
      "not_fit have 1574 pics\n"
     ]
    }
   ],
   "source": [
    "fit=os.listdir(\"filtered data/fit\")\n",
    "not_fit=os.listdir(\"filtered data/not_fit\")\n",
    "fit=DataFrame(fit)\n",
    "not_fit=DataFrame(not_fit)\n",
    "fit.rename(columns={0:'fit'},inplace=True)\n",
    "not_fit.rename(columns={0:'not_fit'},inplace=True)\n",
    "print(f'fit have {len(fit)} pics')\n",
    "print(f'not_fit have {len(not_fit)} pics')\n"
   ]
  },
  {
   "cell_type": "code",
   "execution_count": 17,
   "metadata": {},
   "outputs": [
    {
     "name": "stdout",
     "output_type": "stream",
     "text": [
      "train fit have 2950 pics\n",
      "train not_fit have 1260 pics\n",
      "test fit have 737 pics\n",
      "test not_fit have 314 pics\n"
     ]
    }
   ],
   "source": [
    "train_fit=fit\n",
    "train_not_fit=not_fit\n",
    "test_fit=train_fit.sample(737,random_state=168)\n",
    "test_not_fit=train_not_fit.sample(314,random_state=62)\n",
    "train_fit = train_fit.drop(test_fit.index)\n",
    "train_not_fit = train_not_fit.drop(test_not_fit.index)\n",
    "\n",
    "train_fit = train_fit.sort_values(by=[\"fit\"]).reset_index(drop=True)\n",
    "train_not_fit = train_not_fit.sort_values(by=[\"not_fit\"]).reset_index(drop=True)\n",
    "test_fit = test_fit.sort_values(by=[\"fit\"]).reset_index(drop=True)\n",
    "test_not_fit = test_not_fit.sort_values(by=[\"not_fit\"]).reset_index(drop=True)\n",
    "print(f'train fit have {len(train_fit)} sample pics')\n",
    "print(f'train not_fit have {len(train_not_fit)} sample pics')\n",
    "print(f'test fit have {len(test_fit)} sample pics')\n",
    "print(f'test not_fit have {len(test_not_fit)} sample pics')\n"
   ]
  },
  {
   "cell_type": "code",
   "execution_count": 36,
   "metadata": {},
   "outputs": [
    {
     "name": "stderr",
     "output_type": "stream",
     "text": [
      "100%|██████████| 2950/2950 [00:00<00:00, 4525.86it/s]\n",
      "100%|██████████| 737/737 [00:00<00:00, 4608.95it/s]\n",
      "100%|██████████| 1260/1260 [00:00<00:00, 4715.79it/s]\n",
      "100%|██████████| 314/314 [00:00<00:00, 4819.82it/s]\n"
     ]
    }
   ],
   "source": [
    "for i in tqdm(list(train_fit['fit'])):\n",
    "    i=str(i)\n",
    "    origin = \"filtered data/fit/\"+i\n",
    "    target = \"original/train/fit/\"+i\n",
    "    shutil.copyfile(origin,target)\n",
    "for i in tqdm(list(test_fit['fit'])):\n",
    "    i=str(i)\n",
    "    origin = \"filtered data/fit/\"+i\n",
    "    target = \"original/test/fit/\"+i\n",
    "    shutil.copyfile(origin,target)\n",
    "for i in tqdm(list(train_not_fit['not_fit'])):\n",
    "    i=str(i)\n",
    "    origin = \"filtered data/not_fit/\"+i\n",
    "    target = \"original/train/not_fit/\"+i\n",
    "    shutil.copyfile(origin,target)\n",
    "for i in tqdm(list(test_not_fit['not_fit'])):\n",
    "    i=str(i)\n",
    "    origin = \"filtered data/not_fit/\"+i\n",
    "    target = \"original/test/not_fit/\"+i\n",
    "    shutil.copyfile(origin,target)\n"
   ]
  },
  {
   "cell_type": "markdown",
   "metadata": {},
   "source": [
    "---"
   ]
  },
  {
   "cell_type": "markdown",
   "metadata": {},
   "source": [
    "### 參雜舊的OB資料集進去訓練跟測試，避免視覺上相差太大"
   ]
  },
  {
   "cell_type": "code",
   "execution_count": 2,
   "metadata": {},
   "outputs": [
    {
     "data": {
      "text/plain": [
       "1475.0"
      ]
     },
     "execution_count": 2,
     "metadata": {},
     "output_type": "execute_result"
    }
   ],
   "source": [
    "2950 * 0.5"
   ]
  },
  {
   "cell_type": "code",
   "execution_count": 4,
   "metadata": {},
   "outputs": [
    {
     "data": {
      "text/plain": [
       "630.0"
      ]
     },
     "execution_count": 4,
     "metadata": {},
     "output_type": "execute_result"
    }
   ],
   "source": [
    "1260 *0.5"
   ]
  },
  {
   "cell_type": "code",
   "execution_count": 5,
   "metadata": {},
   "outputs": [
    {
     "data": {
      "text/plain": [
       "368.5"
      ]
     },
     "execution_count": 5,
     "metadata": {},
     "output_type": "execute_result"
    }
   ],
   "source": [
    "737*0.5"
   ]
  },
  {
   "cell_type": "code",
   "execution_count": 6,
   "metadata": {},
   "outputs": [
    {
     "data": {
      "text/plain": [
       "157.0"
      ]
     },
     "execution_count": 6,
     "metadata": {},
     "output_type": "execute_result"
    }
   ],
   "source": [
    "314*0.5"
   ]
  },
  {
   "cell_type": "code",
   "execution_count": 8,
   "metadata": {},
   "outputs": [
    {
     "name": "stdout",
     "output_type": "stream",
     "text": [
      "old train fit have 5615 pics\n",
      "old train notfit have 2410 pics\n",
      "old test fit have 1400 pics\n",
      "old test notfit have 575 pics\n"
     ]
    }
   ],
   "source": [
    "o_trainfit = os.listdir(\"old data/train/fit\")\n",
    "o_trainnotfit = os.listdir(\"old data/train/not_fit\")\n",
    "o_testfit = os.listdir(\"old data/test/fit\")\n",
    "o_testnotfit = os.listdir(\"old data/test/not_fit\")\n",
    "\n",
    "o_trainfit_df = DataFrame(o_trainfit)\n",
    "o_trainnotfit_df = DataFrame(o_trainnotfit)\n",
    "o_testfit_df = DataFrame(o_testfit)\n",
    "o_testnotfit_df = DataFrame(o_testnotfit)\n",
    "\n",
    "o_trainfit_df.rename(columns={0:'fit'},inplace=True)\n",
    "o_trainnotfit_df.rename(columns={0:'not_fit'},inplace=True)\n",
    "o_testfit_df.rename(columns={0:'fit'},inplace=True)\n",
    "o_testnotfit_df.rename(columns={0:'not_fit'},inplace=True)\n",
    "print(f'old train fit have {len(o_trainfit_df)} pics')\n",
    "print(f'old train notfit have {len(o_trainnotfit_df)} pics')\n",
    "print(f'old test fit have {len(o_testfit_df)} pics')\n",
    "print(f'old test notfit have {len(o_testnotfit_df)} pics')\n"
   ]
  },
  {
   "cell_type": "code",
   "execution_count": 9,
   "metadata": {},
   "outputs": [
    {
     "name": "stdout",
     "output_type": "stream",
     "text": [
      "old train fit have 1475 sample pics\n",
      "old train notfit have 630 sample pics\n",
      "old test fit have 368 sample pics\n",
      "old test notfit have 157 sample pics\n"
     ]
    }
   ],
   "source": [
    "o_tr_fit = o_trainfit_df.sample(1475,random_state=128)\n",
    "o_tr_notfit =o_trainnotfit_df.sample(630,random_state=96)\n",
    "o_te_fit = o_testfit_df.sample(368,random_state=48)\n",
    "o_te_notfit = o_testnotfit_df.sample(157,random_state=37)\n",
    "\n",
    "o_tr_fit = o_tr_fit.sort_values(by=[\"fit\"]).reset_index(drop=True)\n",
    "o_tr_notfit = o_tr_notfit.sort_values(by=[\"not_fit\"]).reset_index(drop=True)\n",
    "o_te_fit = o_te_fit.sort_values(by=[\"fit\"]).reset_index(drop=True)\n",
    "o_te_notfit = o_te_notfit.sort_values(by=[\"not_fit\"]).reset_index(drop=True)\n",
    "\n",
    "print(f'old train fit have {len(o_tr_fit)} sample pics')\n",
    "print(f'old train notfit have {len(o_tr_notfit)} sample pics')\n",
    "print(f'old test fit have {len(o_te_fit)} sample pics')\n",
    "print(f'old test notfit have {len(o_te_notfit)} sample pics')"
   ]
  },
  {
   "cell_type": "code",
   "execution_count": 15,
   "metadata": {},
   "outputs": [
    {
     "name": "stderr",
     "output_type": "stream",
     "text": [
      "100%|██████████| 1475/1475 [00:00<00:00, 5919.84it/s]\n",
      "100%|██████████| 630/630 [00:00<00:00, 5691.22it/s]\n",
      "100%|██████████| 368/368 [00:00<00:00, 6200.08it/s]\n",
      "100%|██████████| 157/157 [00:00<00:00, 5976.80it/s]\n"
     ]
    }
   ],
   "source": [
    "os.mkdir(\"old sample data\")\n",
    "os.mkdir(\"old sample data/train\")\n",
    "os.mkdir(\"old sample data/test\")\n",
    "os.mkdir(\"old sample data/train/fit\")\n",
    "os.mkdir(\"old sample data/train/not_fit\")\n",
    "os.mkdir(\"old sample data/test/fit\")\n",
    "os.mkdir(\"old sample data/test/not_fit\")\n",
    "\n",
    "for i in tqdm(list(o_tr_fit['fit'])):\n",
    "    i=str(i)\n",
    "    origin = \"old data/train/fit/\"+i\n",
    "    target = \"old sample data/train/fit/\"+i\n",
    "    shutil.copyfile(origin,target)\n",
    "for i in tqdm(list(o_tr_notfit['not_fit'])):\n",
    "    i=str(i)\n",
    "    origin = \"old data/train/not_fit/\"+i\n",
    "    target = \"old sample data/train/not_fit/\"+i\n",
    "    shutil.copyfile(origin,target)\n",
    "for i in tqdm(list(o_te_fit['fit'])):\n",
    "    i=str(i)\n",
    "    origin = \"old data/test/fit/\"+i\n",
    "    target = \"old sample data/test/fit/\"+i\n",
    "    shutil.copyfile(origin,target)\n",
    "for i in tqdm(list(o_te_notfit['not_fit'])):\n",
    "    i=str(i)\n",
    "    origin = \"old data/test/not_fit/\"+i\n",
    "    target = \"old sample data/test/not_fit/\"+i\n",
    "    shutil.copyfile(origin,target)"
   ]
  },
  {
   "cell_type": "markdown",
   "metadata": {},
   "source": [
    "---"
   ]
  },
  {
   "cell_type": "markdown",
   "metadata": {},
   "source": [
    "### 切圖片"
   ]
  },
  {
   "cell_type": "code",
   "execution_count": 2,
   "metadata": {},
   "outputs": [],
   "source": [
    "transform=transforms.Compose([\n",
    "   transforms.CenterCrop([560,450]),\n",
    "    transforms.Resize([224,224]),\n",
    "])"
   ]
  },
  {
   "cell_type": "code",
   "execution_count": 34,
   "metadata": {},
   "outputs": [
    {
     "name": "stderr",
     "output_type": "stream",
     "text": [
      "0it [00:00, ?it/s]\n",
      "0it [00:00, ?it/s]\n"
     ]
    },
    {
     "ename": "FileNotFoundError",
     "evalue": "[Errno 2] No such file or directory: 'original 2styles data/train/no_fit'",
     "output_type": "error",
     "traceback": [
      "\u001b[0;31m---------------------------------------------------------------------------\u001b[0m",
      "\u001b[0;31mFileNotFoundError\u001b[0m                         Traceback (most recent call last)",
      "\u001b[0;32m/tmp/ipykernel_38098/4229898294.py\u001b[0m in \u001b[0;36m<module>\u001b[0;34m\u001b[0m\n\u001b[1;32m     19\u001b[0m         \u001b[0;32mexcept\u001b[0m\u001b[0;34m:\u001b[0m\u001b[0;34m\u001b[0m\u001b[0;34m\u001b[0m\u001b[0m\n\u001b[1;32m     20\u001b[0m             \u001b[0mtest_fail\u001b[0m\u001b[0;34m.\u001b[0m\u001b[0mappend\u001b[0m\u001b[0;34m(\u001b[0m\u001b[0;34m[\u001b[0m\u001b[0mi\u001b[0m\u001b[0;34m,\u001b[0m\u001b[0mimg\u001b[0m\u001b[0;34m]\u001b[0m\u001b[0;34m)\u001b[0m\u001b[0;34m\u001b[0m\u001b[0;34m\u001b[0m\u001b[0m\n\u001b[0;32m---> 21\u001b[0;31m \u001b[0;32mfor\u001b[0m \u001b[0mimg\u001b[0m \u001b[0;32min\u001b[0m \u001b[0mtqdm\u001b[0m\u001b[0;34m(\u001b[0m\u001b[0mos\u001b[0m\u001b[0;34m.\u001b[0m\u001b[0mlistdir\u001b[0m\u001b[0;34m(\u001b[0m\u001b[0;34m\"original 2styles data/train/no_fit\"\u001b[0m\u001b[0;34m)\u001b[0m\u001b[0;34m)\u001b[0m\u001b[0;34m:\u001b[0m\u001b[0;34m\u001b[0m\u001b[0;34m\u001b[0m\u001b[0m\n\u001b[0m\u001b[1;32m     22\u001b[0m         \u001b[0;32mtry\u001b[0m\u001b[0;34m:\u001b[0m\u001b[0;34m\u001b[0m\u001b[0;34m\u001b[0m\u001b[0m\n\u001b[1;32m     23\u001b[0m             \u001b[0mpath\u001b[0m\u001b[0;34m=\u001b[0m\u001b[0;34m\"original 2styles data/train/\"\u001b[0m\u001b[0;34m+\u001b[0m\u001b[0;34m\"no_fit\"\u001b[0m\u001b[0;34m+\u001b[0m\u001b[0;34m\"/\"\u001b[0m\u001b[0;34m+\u001b[0m\u001b[0mimg\u001b[0m\u001b[0;34m\u001b[0m\u001b[0;34m\u001b[0m\u001b[0m\n",
      "\u001b[0;31mFileNotFoundError\u001b[0m: [Errno 2] No such file or directory: 'original 2styles data/train/no_fit'"
     ]
    }
   ],
   "source": [
    "train_fail=[]\n",
    "test_fail=[]\n",
    "for img in tqdm(os.listdir(\"original 2styles data/train/fit\")):\n",
    "        try:\n",
    "            path=\"original 2styles data/train/\"+i+\"/\"+img\n",
    "            pil_img=Image.open(path)\n",
    "            t=transform(pil_img)\n",
    "            save_dir=\"train_crop/\"+\"fit\"+\"/\"+img\n",
    "            t.save(save_dir)\n",
    "        except:\n",
    "            train_fail.append([i,img])\n",
    "for img in tqdm(os.listdir(\"original 2styles data/test/fit\")):\n",
    "        try:\n",
    "            path=\"original 2styles data/test/\"+i+\"/\"+img\n",
    "            pil_img=Image.open(path)\n",
    "            t=transform(pil_img)\n",
    "            save_dir=\"test_crop/\"+\"fit\"+\"/\"+img\n",
    "            t.save(save_dir)\n",
    "        except:\n",
    "            test_fail.append([i,img])\n",
    "for img in tqdm(os.listdir(\"original 2styles data/train/no_fit\")):\n",
    "        try:\n",
    "            path=\"original 2styles data/train/\"+\"no_fit\"+\"/\"+img\n",
    "            pil_img=Image.open(path)\n",
    "            t=transform(pil_img)\n",
    "            save_dir=\"train_crop/\"+\"no_fit\"+\"/\"+img\n",
    "            t.save(save_dir)\n",
    "        except:\n",
    "            train_fail.append([i,img])\n",
    "for img in tqdm(os.listdir(\"original 2styles data/test/no_fit\")):\n",
    "        try:\n",
    "            path=\"original 2styles data/test/\"+\"no_fit\"+\"/\"+img\n",
    "            pil_img=Image.open(path)\n",
    "            t=transform(pil_img)\n",
    "            save_dir=\"test_crop/\"+\"no_fit\"+\"/\"+img\n",
    "            t.save(save_dir)\n",
    "        except:\n",
    "            test_fail.append([i,img])\n"
   ]
  },
  {
   "cell_type": "code",
   "execution_count": 4,
   "metadata": {},
   "outputs": [
    {
     "name": "stderr",
     "output_type": "stream",
     "text": [
      "100%|██████████| 2950/2950 [00:57<00:00, 51.62it/s]\n",
      "100%|██████████| 737/737 [00:15<00:00, 46.76it/s]\n",
      "100%|██████████| 1260/1260 [00:24<00:00, 51.94it/s]\n",
      "100%|██████████| 314/314 [00:06<00:00, 49.52it/s]\n"
     ]
    }
   ],
   "source": [
    "train_fail=[]\n",
    "test_fail=[]\n",
    "fon = [\"fit\",\"not_fit\"]\n",
    "for i in fon:\n",
    "    for train_img in tqdm(os.listdir(\"original/train/\"+i)):\n",
    "        try:\n",
    "            path=\"original/train/\"+i+\"/\"+train_img\n",
    "            pil_img=Image.open(path)\n",
    "            t=transform(pil_img)\n",
    "            save_dir=\"train_crop/\"+i+\"/\"+train_img\n",
    "            t.save(save_dir)\n",
    "        except:\n",
    "            train_fail.append([i,train_img])\n",
    "for j in fon:\n",
    "    for test_img in tqdm(os.listdir(\"original/test/\"+i)):\n",
    "        try:\n",
    "            path=\"original/test/\"+i+\"/\"+test_img\n",
    "            pil_img=Image.open(path)\n",
    "            t=transform(pil_img)\n",
    "            save_dir=\"test_crop/\"+i+\"/\"+test_img\n",
    "            t.save(save_dir)\n",
    "        except:\n",
    "            test_fail.append([i,test_img])"
   ]
  },
  {
   "cell_type": "markdown",
   "metadata": {},
   "source": [
    "---"
   ]
  },
  {
   "cell_type": "markdown",
   "metadata": {},
   "source": [
    "### Start training"
   ]
  },
  {
   "cell_type": "code",
   "execution_count": 2,
   "metadata": {},
   "outputs": [],
   "source": [
    "transform2=transforms.Compose([\n",
    "    transforms.Resize([224,224]), #缩放图片，保持长宽比不变，最短边的长为224像素,\n",
    "    transforms.ToTensor(), #将图片转换为Tensor,归一化至[0,1]\n",
    "    transforms.Normalize(mean=[.5,.5,.5],std=[.5,.5,.5]) #标准化至[-1,1]\n",
    "])\n",
    "\n",
    "batch_size=64\n",
    "\n",
    "train_dir = \"train_crop\"           \n",
    "#定義數據集\n",
    "train_datasets = datasets.ImageFolder(train_dir, transform=transform2)\n",
    "#加載數據集\n",
    "train_dataloader = torch.utils.data.DataLoader(train_datasets, batch_size=batch_size, shuffle=True)\n",
    "\n",
    "val_dir = \"test_crop\"\t\t\n",
    "val_datasets = datasets.ImageFolder(val_dir, transform=transform2)\n",
    "val_dataloader = torch.utils.data.DataLoader(val_datasets, batch_size=batch_size, shuffle=False)"
   ]
  },
  {
   "cell_type": "code",
   "execution_count": 3,
   "metadata": {},
   "outputs": [],
   "source": [
    "class ResNet(nn.Module):\n",
    "    def __init__(self, num_classes=2):\n",
    "        super(ResNet, self).__init__()\n",
    "        net = models.resnet18(pretrained=False)\n",
    "        net.fc = nn.Sequential()\n",
    "        self.model = net\n",
    "        # 鎖定 ResNet18 預訓練模型參數\n",
    "        #for param in self.model.parameters():\n",
    "        #    param.requires_grad = False\n",
    "\n",
    "        # 修改輸出層輸出數量\n",
    "        self.fc = nn.Sequential(\n",
    "            nn.Linear(512, 256),\n",
    "            nn.ReLU(True),\n",
    "            nn.Dropout(),\n",
    "            nn.Linear(256, 128),\n",
    "            nn.ReLU(True),\n",
    "            nn.Dropout(),\n",
    "            nn.Linear(128, num_classes)\n",
    "        )\n",
    "        \n",
    "\n",
    "    def forward(self, x):\n",
    "        x = self.model(x)\n",
    "        x = x.view(x.size(0), -1)\n",
    "        x = self.fc(x)\n",
    "        return x"
   ]
  },
  {
   "cell_type": "code",
   "execution_count": 4,
   "metadata": {},
   "outputs": [],
   "source": [
    "model = ResNet().to(\"cuda\")"
   ]
  },
  {
   "cell_type": "code",
   "execution_count": 5,
   "metadata": {},
   "outputs": [
    {
     "data": {
      "text/plain": [
       "ResNet(\n",
       "  (model): ResNet(\n",
       "    (conv1): Conv2d(3, 64, kernel_size=(7, 7), stride=(2, 2), padding=(3, 3), bias=False)\n",
       "    (bn1): BatchNorm2d(64, eps=1e-05, momentum=0.1, affine=True, track_running_stats=True)\n",
       "    (relu): ReLU(inplace=True)\n",
       "    (maxpool): MaxPool2d(kernel_size=3, stride=2, padding=1, dilation=1, ceil_mode=False)\n",
       "    (layer1): Sequential(\n",
       "      (0): BasicBlock(\n",
       "        (conv1): Conv2d(64, 64, kernel_size=(3, 3), stride=(1, 1), padding=(1, 1), bias=False)\n",
       "        (bn1): BatchNorm2d(64, eps=1e-05, momentum=0.1, affine=True, track_running_stats=True)\n",
       "        (relu): ReLU(inplace=True)\n",
       "        (conv2): Conv2d(64, 64, kernel_size=(3, 3), stride=(1, 1), padding=(1, 1), bias=False)\n",
       "        (bn2): BatchNorm2d(64, eps=1e-05, momentum=0.1, affine=True, track_running_stats=True)\n",
       "      )\n",
       "      (1): BasicBlock(\n",
       "        (conv1): Conv2d(64, 64, kernel_size=(3, 3), stride=(1, 1), padding=(1, 1), bias=False)\n",
       "        (bn1): BatchNorm2d(64, eps=1e-05, momentum=0.1, affine=True, track_running_stats=True)\n",
       "        (relu): ReLU(inplace=True)\n",
       "        (conv2): Conv2d(64, 64, kernel_size=(3, 3), stride=(1, 1), padding=(1, 1), bias=False)\n",
       "        (bn2): BatchNorm2d(64, eps=1e-05, momentum=0.1, affine=True, track_running_stats=True)\n",
       "      )\n",
       "    )\n",
       "    (layer2): Sequential(\n",
       "      (0): BasicBlock(\n",
       "        (conv1): Conv2d(64, 128, kernel_size=(3, 3), stride=(2, 2), padding=(1, 1), bias=False)\n",
       "        (bn1): BatchNorm2d(128, eps=1e-05, momentum=0.1, affine=True, track_running_stats=True)\n",
       "        (relu): ReLU(inplace=True)\n",
       "        (conv2): Conv2d(128, 128, kernel_size=(3, 3), stride=(1, 1), padding=(1, 1), bias=False)\n",
       "        (bn2): BatchNorm2d(128, eps=1e-05, momentum=0.1, affine=True, track_running_stats=True)\n",
       "        (downsample): Sequential(\n",
       "          (0): Conv2d(64, 128, kernel_size=(1, 1), stride=(2, 2), bias=False)\n",
       "          (1): BatchNorm2d(128, eps=1e-05, momentum=0.1, affine=True, track_running_stats=True)\n",
       "        )\n",
       "      )\n",
       "      (1): BasicBlock(\n",
       "        (conv1): Conv2d(128, 128, kernel_size=(3, 3), stride=(1, 1), padding=(1, 1), bias=False)\n",
       "        (bn1): BatchNorm2d(128, eps=1e-05, momentum=0.1, affine=True, track_running_stats=True)\n",
       "        (relu): ReLU(inplace=True)\n",
       "        (conv2): Conv2d(128, 128, kernel_size=(3, 3), stride=(1, 1), padding=(1, 1), bias=False)\n",
       "        (bn2): BatchNorm2d(128, eps=1e-05, momentum=0.1, affine=True, track_running_stats=True)\n",
       "      )\n",
       "    )\n",
       "    (layer3): Sequential(\n",
       "      (0): BasicBlock(\n",
       "        (conv1): Conv2d(128, 256, kernel_size=(3, 3), stride=(2, 2), padding=(1, 1), bias=False)\n",
       "        (bn1): BatchNorm2d(256, eps=1e-05, momentum=0.1, affine=True, track_running_stats=True)\n",
       "        (relu): ReLU(inplace=True)\n",
       "        (conv2): Conv2d(256, 256, kernel_size=(3, 3), stride=(1, 1), padding=(1, 1), bias=False)\n",
       "        (bn2): BatchNorm2d(256, eps=1e-05, momentum=0.1, affine=True, track_running_stats=True)\n",
       "        (downsample): Sequential(\n",
       "          (0): Conv2d(128, 256, kernel_size=(1, 1), stride=(2, 2), bias=False)\n",
       "          (1): BatchNorm2d(256, eps=1e-05, momentum=0.1, affine=True, track_running_stats=True)\n",
       "        )\n",
       "      )\n",
       "      (1): BasicBlock(\n",
       "        (conv1): Conv2d(256, 256, kernel_size=(3, 3), stride=(1, 1), padding=(1, 1), bias=False)\n",
       "        (bn1): BatchNorm2d(256, eps=1e-05, momentum=0.1, affine=True, track_running_stats=True)\n",
       "        (relu): ReLU(inplace=True)\n",
       "        (conv2): Conv2d(256, 256, kernel_size=(3, 3), stride=(1, 1), padding=(1, 1), bias=False)\n",
       "        (bn2): BatchNorm2d(256, eps=1e-05, momentum=0.1, affine=True, track_running_stats=True)\n",
       "      )\n",
       "    )\n",
       "    (layer4): Sequential(\n",
       "      (0): BasicBlock(\n",
       "        (conv1): Conv2d(256, 512, kernel_size=(3, 3), stride=(2, 2), padding=(1, 1), bias=False)\n",
       "        (bn1): BatchNorm2d(512, eps=1e-05, momentum=0.1, affine=True, track_running_stats=True)\n",
       "        (relu): ReLU(inplace=True)\n",
       "        (conv2): Conv2d(512, 512, kernel_size=(3, 3), stride=(1, 1), padding=(1, 1), bias=False)\n",
       "        (bn2): BatchNorm2d(512, eps=1e-05, momentum=0.1, affine=True, track_running_stats=True)\n",
       "        (downsample): Sequential(\n",
       "          (0): Conv2d(256, 512, kernel_size=(1, 1), stride=(2, 2), bias=False)\n",
       "          (1): BatchNorm2d(512, eps=1e-05, momentum=0.1, affine=True, track_running_stats=True)\n",
       "        )\n",
       "      )\n",
       "      (1): BasicBlock(\n",
       "        (conv1): Conv2d(512, 512, kernel_size=(3, 3), stride=(1, 1), padding=(1, 1), bias=False)\n",
       "        (bn1): BatchNorm2d(512, eps=1e-05, momentum=0.1, affine=True, track_running_stats=True)\n",
       "        (relu): ReLU(inplace=True)\n",
       "        (conv2): Conv2d(512, 512, kernel_size=(3, 3), stride=(1, 1), padding=(1, 1), bias=False)\n",
       "        (bn2): BatchNorm2d(512, eps=1e-05, momentum=0.1, affine=True, track_running_stats=True)\n",
       "      )\n",
       "    )\n",
       "    (avgpool): AdaptiveAvgPool2d(output_size=(1, 1))\n",
       "    (fc): Sequential()\n",
       "  )\n",
       "  (fc): Sequential(\n",
       "    (0): Linear(in_features=512, out_features=256, bias=True)\n",
       "    (1): ReLU(inplace=True)\n",
       "    (2): Dropout(p=0.5, inplace=False)\n",
       "    (3): Linear(in_features=256, out_features=128, bias=True)\n",
       "    (4): ReLU(inplace=True)\n",
       "    (5): Dropout(p=0.5, inplace=False)\n",
       "    (6): Linear(in_features=128, out_features=2, bias=True)\n",
       "  )\n",
       ")"
      ]
     },
     "execution_count": 5,
     "metadata": {},
     "output_type": "execute_result"
    }
   ],
   "source": [
    "model"
   ]
  },
  {
   "cell_type": "code",
   "execution_count": 6,
   "metadata": {},
   "outputs": [],
   "source": [
    "class FocalLoss(nn.Module):\n",
    "    def __init__(self, gamma=2, alpha=.25, reduction='mean'):\n",
    "        super(FocalLoss, self).__init__()\n",
    "        self.gamma = gamma\n",
    "        self.alpha = alpha\n",
    "        if isinstance(alpha, (float, int)): self.alpha = torch.tensor([alpha, 1 - alpha])\n",
    "        if isinstance(alpha, list): self.alpha = torch.tensor(alpha)\n",
    "        self.reduction = reduction\n",
    "\n",
    "    def forward(self, inputs, targets):\n",
    "        CE_loss = F.cross_entropy(inputs, targets, reduction='none')\n",
    "        pt = torch.exp(-CE_loss)\n",
    "        focal_loss = (1 - pt) ** self.gamma * CE_loss\n",
    "\n",
    "        if self.alpha is not None:\n",
    "            if self.alpha.device != inputs.device:\n",
    "                self.alpha = self.alpha.to(inputs.device)\n",
    "            focal_loss = self.alpha[targets] * focal_loss\n",
    "\n",
    "        if self.reduction == 'mean':\n",
    "            return torch.mean(focal_loss)\n",
    "        elif self.reduction == 'sum':\n",
    "            return torch.sum(focal_loss)\n",
    "        else:\n",
    "            return focal_loss"
   ]
  },
  {
   "cell_type": "code",
   "execution_count": 7,
   "metadata": {},
   "outputs": [],
   "source": [
    "optimizer = optim.Adam(model.parameters(), lr=5e-4)\n",
    "\n",
    "loss_func = FocalLoss()"
   ]
  },
  {
   "cell_type": "code",
   "execution_count": 8,
   "metadata": {},
   "outputs": [],
   "source": [
    "# # 損失函數\n",
    "# loss_func = nn.CrossEntropyLoss()\n",
    "\n",
    "# # 學習優化器\n",
    "# optimizer = torch.optim.SGD(model.parameters(), lr=5e-2)#5的負2次方"
   ]
  },
  {
   "cell_type": "code",
   "execution_count": 9,
   "metadata": {},
   "outputs": [
    {
     "name": "stdout",
     "output_type": "stream",
     "text": [
      "epoch 1\n"
     ]
    },
    {
     "name": "stderr",
     "output_type": "stream",
     "text": [
      "100%|██████████| 99/99 [01:00<00:00,  1.63it/s]\n"
     ]
    },
    {
     "name": "stdout",
     "output_type": "stream",
     "text": [
      "Train Loss: 0.001075, Acc: 0.476160\n",
      "Test Loss: 0.002130, Acc: 0.376904\n",
      "epoch 2\n"
     ]
    },
    {
     "name": "stderr",
     "output_type": "stream",
     "text": [
      "100%|██████████| 99/99 [00:55<00:00,  1.77it/s]\n"
     ]
    },
    {
     "name": "stdout",
     "output_type": "stream",
     "text": [
      "Train Loss: 0.001100, Acc: 0.346903\n",
      "Test Loss: 0.001097, Acc: 0.298858\n",
      "epoch 3\n"
     ]
    },
    {
     "name": "stderr",
     "output_type": "stream",
     "text": [
      "100%|██████████| 99/99 [00:54<00:00,  1.81it/s]\n"
     ]
    },
    {
     "name": "stdout",
     "output_type": "stream",
     "text": [
      "Train Loss: 0.001076, Acc: 0.299065\n",
      "Test Loss: 0.001096, Acc: 0.298858\n",
      "epoch 4\n"
     ]
    },
    {
     "name": "stderr",
     "output_type": "stream",
     "text": [
      "100%|██████████| 99/99 [00:58<00:00,  1.68it/s]\n"
     ]
    },
    {
     "name": "stdout",
     "output_type": "stream",
     "text": [
      "Train Loss: 0.001075, Acc: 0.299065\n",
      "Test Loss: 0.001095, Acc: 0.298858\n",
      "epoch 5\n"
     ]
    },
    {
     "name": "stderr",
     "output_type": "stream",
     "text": [
      "100%|██████████| 99/99 [00:58<00:00,  1.69it/s]\n"
     ]
    },
    {
     "name": "stdout",
     "output_type": "stream",
     "text": [
      "Train Loss: 0.001046, Acc: 0.417709\n",
      "Test Loss: 0.001096, Acc: 0.298858\n",
      "epoch 6\n"
     ]
    },
    {
     "name": "stderr",
     "output_type": "stream",
     "text": [
      "100%|██████████| 99/99 [00:58<00:00,  1.69it/s]\n"
     ]
    },
    {
     "name": "stdout",
     "output_type": "stream",
     "text": [
      "Train Loss: 0.001038, Acc: 0.425154\n",
      "Test Loss: 0.000993, Acc: 0.739848\n",
      "epoch 7\n"
     ]
    },
    {
     "name": "stderr",
     "output_type": "stream",
     "text": [
      "100%|██████████| 99/99 [00:57<00:00,  1.71it/s]\n"
     ]
    },
    {
     "name": "stdout",
     "output_type": "stream",
     "text": [
      "Train Loss: 0.000961, Acc: 0.677332\n",
      "Test Loss: 0.000942, Acc: 0.686548\n",
      "epoch 8\n"
     ]
    },
    {
     "name": "stderr",
     "output_type": "stream",
     "text": [
      "100%|██████████| 99/99 [00:58<00:00,  1.68it/s]\n"
     ]
    },
    {
     "name": "stdout",
     "output_type": "stream",
     "text": [
      "Train Loss: 0.000925, Acc: 0.695707\n",
      "Test Loss: 0.000924, Acc: 0.723350\n",
      "epoch 9\n"
     ]
    },
    {
     "name": "stderr",
     "output_type": "stream",
     "text": [
      "100%|██████████| 99/99 [00:54<00:00,  1.82it/s]\n"
     ]
    },
    {
     "name": "stdout",
     "output_type": "stream",
     "text": [
      "Train Loss: 0.000886, Acc: 0.706796\n",
      "Test Loss: 0.000918, Acc: 0.700508\n",
      "epoch 10\n"
     ]
    },
    {
     "name": "stderr",
     "output_type": "stream",
     "text": [
      "100%|██████████| 99/99 [00:46<00:00,  2.14it/s]\n"
     ]
    },
    {
     "name": "stdout",
     "output_type": "stream",
     "text": [
      "Train Loss: 0.000867, Acc: 0.695232\n",
      "Test Loss: 0.000923, Acc: 0.547589\n",
      "epoch 11\n"
     ]
    },
    {
     "name": "stderr",
     "output_type": "stream",
     "text": [
      "100%|██████████| 99/99 [00:45<00:00,  2.17it/s]\n"
     ]
    },
    {
     "name": "stdout",
     "output_type": "stream",
     "text": [
      "Train Loss: 0.000839, Acc: 0.693648\n",
      "Test Loss: 0.000981, Acc: 0.746827\n",
      "epoch 12\n"
     ]
    },
    {
     "name": "stderr",
     "output_type": "stream",
     "text": [
      "100%|██████████| 99/99 [00:45<00:00,  2.18it/s]\n"
     ]
    },
    {
     "name": "stdout",
     "output_type": "stream",
     "text": [
      "Train Loss: 0.000807, Acc: 0.689530\n",
      "Test Loss: 0.000856, Acc: 0.675761\n",
      "epoch 13\n"
     ]
    },
    {
     "name": "stderr",
     "output_type": "stream",
     "text": [
      "100%|██████████| 99/99 [00:45<00:00,  2.15it/s]\n"
     ]
    },
    {
     "name": "stdout",
     "output_type": "stream",
     "text": [
      "Train Loss: 0.000854, Acc: 0.684777\n",
      "Test Loss: 0.000905, Acc: 0.762690\n",
      "epoch 14\n"
     ]
    },
    {
     "name": "stderr",
     "output_type": "stream",
     "text": [
      "100%|██████████| 99/99 [00:45<00:00,  2.18it/s]\n"
     ]
    },
    {
     "name": "stdout",
     "output_type": "stream",
     "text": [
      "Train Loss: 0.000799, Acc: 0.702835\n",
      "Test Loss: 0.000883, Acc: 0.580584\n",
      "epoch 15\n"
     ]
    },
    {
     "name": "stderr",
     "output_type": "stream",
     "text": [
      "100%|██████████| 99/99 [00:50<00:00,  1.95it/s]\n"
     ]
    },
    {
     "name": "stdout",
     "output_type": "stream",
     "text": [
      "Train Loss: 0.000754, Acc: 0.705211\n",
      "Test Loss: 0.000838, Acc: 0.707487\n",
      "epoch 16\n"
     ]
    },
    {
     "name": "stderr",
     "output_type": "stream",
     "text": [
      "100%|██████████| 99/99 [00:46<00:00,  2.14it/s]\n"
     ]
    },
    {
     "name": "stdout",
     "output_type": "stream",
     "text": [
      "Train Loss: 0.000750, Acc: 0.711231\n",
      "Test Loss: 0.000827, Acc: 0.704315\n",
      "epoch 17\n"
     ]
    },
    {
     "name": "stderr",
     "output_type": "stream",
     "text": [
      "100%|██████████| 99/99 [00:46<00:00,  2.15it/s]\n"
     ]
    },
    {
     "name": "stdout",
     "output_type": "stream",
     "text": [
      "Train Loss: 0.000709, Acc: 0.724853\n",
      "Test Loss: 0.000838, Acc: 0.635152\n",
      "epoch 18\n"
     ]
    },
    {
     "name": "stderr",
     "output_type": "stream",
     "text": [
      "100%|██████████| 99/99 [00:45<00:00,  2.16it/s]\n"
     ]
    },
    {
     "name": "stdout",
     "output_type": "stream",
     "text": [
      "Train Loss: 0.000691, Acc: 0.742278\n",
      "Test Loss: 0.000804, Acc: 0.750635\n",
      "epoch 19\n"
     ]
    },
    {
     "name": "stderr",
     "output_type": "stream",
     "text": [
      "100%|██████████| 99/99 [00:45<00:00,  2.16it/s]\n"
     ]
    },
    {
     "name": "stdout",
     "output_type": "stream",
     "text": [
      "Train Loss: 0.000654, Acc: 0.762395\n",
      "Test Loss: 0.000845, Acc: 0.747462\n",
      "epoch 20\n"
     ]
    },
    {
     "name": "stderr",
     "output_type": "stream",
     "text": [
      "100%|██████████| 99/99 [00:58<00:00,  1.70it/s]\n"
     ]
    },
    {
     "name": "stdout",
     "output_type": "stream",
     "text": [
      "Train Loss: 0.000614, Acc: 0.779344\n",
      "Test Loss: 0.000865, Acc: 0.704949\n"
     ]
    }
   ],
   "source": [
    "epoch=20\n",
    "\n",
    "if torch.cuda.is_available():\n",
    "    model.cuda()\n",
    "\n",
    "\n",
    "model.train()\n",
    "\n",
    "loss_list = []\n",
    "accuracy_list = []\n",
    "tr_loss_list = []\n",
    "tr_accuracy_list = []\n",
    "#先把混淆矩陣要用得list加在前面\n",
    "y_true=[]\n",
    "y_pred=[]\n",
    "\n",
    "for i in range(epoch):\n",
    "    print('epoch {}'.format(i + 1))\n",
    "    train_loss = 0.\n",
    "    train_acc = 0.\n",
    "    pbar=tqdm(total=len(train_dataloader))\n",
    "    for img, label in train_dataloader:\n",
    "        img = Variable(img).cuda()\n",
    "        label = Variable(label).cuda()\n",
    "        optimizer.zero_grad()\n",
    "        output = model(img)\n",
    "        loss = loss_func(output, label)\n",
    "        train_loss += loss.item()\n",
    "        pred = torch.max(output, 1)[1]\n",
    "        train_correct = (pred == label).sum()\n",
    "        train_acc += train_correct.item()\n",
    "        loss.backward()\n",
    "        optimizer.step()\n",
    "        pbar.update(1)\n",
    "    pbar.close()\n",
    "\n",
    "    print('Train Loss: {:.6f}, Acc: {:.6f}'.format(train_loss / (len(train_datasets)), train_acc / (len(train_datasets))))\n",
    "    tr_loss_list.append(train_loss / (len(train_datasets)))\n",
    "    tr_accuracy_list.append(100 * train_acc / (len(train_datasets)))\n",
    "    # evaluation--------------------------------\n",
    "    model.eval()\n",
    "    eval_loss = 0.\n",
    "    eval_acc = 0.\n",
    "    for img, label in val_dataloader:\n",
    "        img = Variable(img).cuda()\n",
    "        label = Variable(label).cuda()\n",
    "        out = model(img)\n",
    "        loss = loss_func(out, label)\n",
    "        eval_loss += loss.item()\n",
    "        pred = torch.max(out, 1)[1]\n",
    "        num_correct = (pred == label).sum()\n",
    "        eval_acc += num_correct.item()\n",
    "        \n",
    "        #混淆矩陣要用的\n",
    "        y_true.extend(label.cpu().tolist())\n",
    "        y_pred.extend(pred.cpu().tolist())\n",
    "    print('Test Loss: {:.6f}, Acc: {:.6f}'.format(eval_loss / (len(val_datasets)), eval_acc / (len(val_datasets))))\n",
    "    loss_list.append(eval_loss / (len(val_datasets)))\n",
    "    accuracy_list.append(100 * eval_acc / (len(val_datasets)))"
   ]
  },
  {
   "cell_type": "code",
   "execution_count": 10,
   "metadata": {},
   "outputs": [
    {
     "data": {
      "image/png": "[encoded data removed]",
      "text/plain": [
       "<Figure size 640x480 with 2 Axes>"
      ]
     },
     "metadata": {},
     "output_type": "display_data"
    }
   ],
   "source": [
    "import matplotlib.pyplot as plt\n",
    "\n",
    "x1 = range(0, epoch)\n",
    "x2 = range(0, epoch)\n",
    "y1 = accuracy_list\n",
    "y2 = loss_list\n",
    "plt.subplot(2, 1, 1)\n",
    "plt.plot(x1, y1, 'o-')\n",
    "plt.title('Test accuracy vs. epoches')\n",
    "plt.ylabel('Test accuracy')\n",
    "plt.subplot(2, 1, 2)\n",
    "plt.plot(x2, y2, '.-')\n",
    "plt.xlabel('Test loss vs. epoches')\n",
    "plt.ylabel('Test loss')\n",
    "plt.show()\n",
    "# plt.savefig(\"accuracy_loss.jpg\")\n"
   ]
  },
  {
   "cell_type": "code",
   "execution_count": 11,
   "metadata": {},
   "outputs": [
    {
     "data": {
      "image/png": "[encoded data removed]",
      "text/plain": [
       "<Figure size 640x480 with 1 Axes>"
      ]
     },
     "metadata": {},
     "output_type": "display_data"
    }
   ],
   "source": [
    "#distplot\n",
    "import matplotlib.pyplot as plt\n",
    "epochs =[i+1 for i in range(epoch)]\n",
    "plt.plot(epochs,tr_loss_list, color='red', label='Train')\n",
    "plt.plot(epochs,loss_list, '--', color='blue', label='Valid')\n",
    "#plt.title('CrossEntropy') # title\n",
    "plt.ylabel(\"Loss\") # y label\n",
    "plt.xlabel(\"Epochs\") # x label\n",
    "plt.legend() #圖例\n",
    "#plt.savefig('.\\\\Model\\\\0618\\\\t_model_' + str(isbalence) + 'bz' + str(batch_sizes) + '_' + str(num_epochs) + '.png') #儲存圖檔\n",
    "#plt.savefig('.\\\\Model\\\\0618\\\\實驗' + str(testnum) + '.png') #儲存圖檔\n",
    "plt.show()"
   ]
  },
  {
   "cell_type": "code",
   "execution_count": 12,
   "metadata": {},
   "outputs": [
    {
     "data": {
      "image/png": "[encoded data removed]",
      "text/plain": [
       "<Figure size 640x480 with 1 Axes>"
      ]
     },
     "metadata": {},
     "output_type": "display_data"
    }
   ],
   "source": [
    "#distplot\n",
    "import matplotlib.pyplot as plt\n",
    "epochs =[i+1 for i in range(epoch)]\n",
    "plt.plot(epochs,tr_accuracy_list, color='red', label='Train')\n",
    "plt.plot(epochs,accuracy_list, '--', color='blue', label='Valid')\n",
    "#plt.title('CrossEntropy') # title\n",
    "plt.ylabel(\"accuracy\") # y label\n",
    "plt.xlabel(\"Epochs\") # x label\n",
    "plt.legend() #圖例\n",
    "#plt.savefig('.\\\\Model\\\\0618\\\\t_model_' + str(isbalence) + 'bz' + str(batch_sizes) + '_' + str(num_epochs) + '.png') #儲存圖檔\n",
    "#plt.savefig('.\\\\Model\\\\0618\\\\實驗' + str(testnum) + '.png') #儲存圖檔\n",
    "plt.show()"
   ]
  },
  {
   "cell_type": "code",
   "execution_count": 13,
   "metadata": {},
   "outputs": [],
   "source": [
    "#torch.save(model.state_dict(), \"Resnet18_98_86.pt\")\n"
   ]
  },
  {
   "cell_type": "code",
   "execution_count": 14,
   "metadata": {},
   "outputs": [],
   "source": [
    "#混淆矩陣\n",
    "from sklearn.metrics import confusion_matrix\n",
    "\n",
    "cm = confusion_matrix(y_true, y_pred)"
   ]
  },
  {
   "cell_type": "code",
   "execution_count": 15,
   "metadata": {},
   "outputs": [
    {
     "name": "stdout",
     "output_type": "stream",
     "text": [
      "Accuracy: 0.5993020304568528\n",
      "FIT precision: 0.8573584905660377\n",
      "FIT recall: 0.5140271493212669\n",
      "n_FIT precision: 0.4121510673234811\n",
      "n_FIT recall: 0.7993630573248408\n",
      "F1 0.6427157001414427\n"
     ]
    }
   ],
   "source": [
    "\n",
    "tp=cm[0][0]\n",
    "fn=cm[0][1]\n",
    "fp=cm[1][0]\n",
    "tn=cm[1][1]\n",
    "print(\"Accuracy:\",(tp+tn)/(tp+fn+fp+tn) )\n",
    "\n",
    "p_presicion=tp/(tp+fp)\n",
    "p_recall=tp/(tp+fn)\n",
    "print('FIT precision:',p_presicion)\n",
    "print('FIT recall:',p_recall)\n",
    "\n",
    "n_presicion=tn/(tn+fn)\n",
    "n_recall=tn/(fp+tn)\n",
    "print('n_FIT precision:',n_presicion)\n",
    "print('n_FIT recall:',n_recall)\n",
    "\n",
    "print(\"F1\",(2*p_presicion*p_recall)/(p_presicion+p_recall))"
   ]
  },
  {
   "cell_type": "code",
   "execution_count": 16,
   "metadata": {},
   "outputs": [
    {
     "name": "stdout",
     "output_type": "stream",
     "text": [
      "[0.         0.48597285 1.        ] [0.         0.79936306 1.        ] [2 1 0]\n"
     ]
    },
    {
     "data": {
      "image/png": "[encoded data removed]",
      "text/plain": [
       "<Figure size 640x480 with 1 Axes>"
      ]
     },
     "metadata": {},
     "output_type": "display_data"
    }
   ],
   "source": [
    "from sklearn.metrics import roc_curve, roc_auc_score, auc\n",
    "import matplotlib.pyplot as plt\n",
    "fpr, tpr, threshold = roc_curve(y_true, y_pred)\n",
    "print(fpr, tpr, threshold)\n",
    "\n",
    "auc1 = auc(fpr, tpr)\n",
    "## Plot the result\n",
    "plt.title('Receiver Operating Characteristic')\n",
    "plt.plot(fpr, tpr, color = 'orange', label = 'AUC = %0.2f' % auc1)\n",
    "plt.legend(loc = 'lower right')\n",
    "plt.plot([0, 1], [0, 1],'r--')\n",
    "plt.xlim([0, 1])\n",
    "plt.ylim([0, 1])\n",
    "plt.ylabel('True Positive Rate')\n",
    "plt.xlabel('False Positive Rate')\n",
    "plt.show()    "
   ]
  },
  {
   "cell_type": "code",
   "execution_count": null,
   "metadata": {},
   "outputs": [],
   "source": []
  }
 ],
 "metadata": {
  "kernelspec": {
   "display_name": "Python 3.7.15 ('andy')",
   "language": "python",
   "name": "python3"
  },
  "language_info": {
   "codemirror_mode": {
    "name": "ipython",
    "version": 3
   },
   "file_extension": ".py",
   "mimetype": "text/x-python",
   "name": "python",
   "nbconvert_exporter": "python",
   "pygments_lexer": "ipython3",
   "version": "3.7.15"
  },
  "orig_nbformat": 4,
  "vscode": {
   "interpreter": {
    "hash": "971a71a7d94cf2c800b29a1bff3063de13433f0eb0387139d6e503f22ed4505f"
   }
  }
 },
 "nbformat": 4,
 "nbformat_minor": 2
}
