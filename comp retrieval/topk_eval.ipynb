{
 "cells": [
  {
   "cell_type": "code",
   "execution_count": 1,
   "metadata": {},
   "outputs": [],
   "source": [
    "# import numpy as np\n",
    "# from sklearn.manifold import TSNE\n",
    "# from sklearn.decomposition import PCA\n",
    "# import matplotlib.pyplot as plt\n",
    "# import torch\n",
    "# from sklearn.cluster import DBSCAN\n",
    "# import annoy\n",
    "# from annoy import AnnoyIndex\n",
    "# import os\n",
    "from tqdm import tqdm\n",
    "# from shutil import copy\n",
    "\n",
    "# import torch\n",
    "# import torch.nn as nn\n",
    "# import torch.nn.functional as F\n",
    "# from torchvision import models\n",
    "# from torchvision import transforms\n",
    "# from PIL import Image\n",
    "import pandas as pd\n"
   ]
  },
  {
   "cell_type": "code",
   "execution_count": 138,
   "metadata": {},
   "outputs": [
    {
     "data": {
      "text/html": [
       "<div>\n",
       "<style scoped>\n",
       "    .dataframe tbody tr th:only-of-type {\n",
       "        vertical-align: middle;\n",
       "    }\n",
       "\n",
       "    .dataframe tbody tr th {\n",
       "        vertical-align: top;\n",
       "    }\n",
       "\n",
       "    .dataframe thead th {\n",
       "        text-align: right;\n",
       "    }\n",
       "</style>\n",
       "<table border=\"1\" class=\"dataframe\">\n",
       "  <thead>\n",
       "    <tr style=\"text-align: right;\">\n",
       "      <th></th>\n",
       "      <th>head_label</th>\n",
       "      <th>tail_label</th>\n",
       "    </tr>\n",
       "  </thead>\n",
       "  <tbody>\n",
       "    <tr>\n",
       "      <th>0</th>\n",
       "      <td>AB13623</td>\n",
       "      <td>BA5115</td>\n",
       "    </tr>\n",
       "    <tr>\n",
       "      <th>1</th>\n",
       "      <td>AB13623</td>\n",
       "      <td>CA2249</td>\n",
       "    </tr>\n",
       "    <tr>\n",
       "      <th>2</th>\n",
       "      <td>AB13623</td>\n",
       "      <td>BA5263</td>\n",
       "    </tr>\n",
       "    <tr>\n",
       "      <th>3</th>\n",
       "      <td>AB13623</td>\n",
       "      <td>BA5167</td>\n",
       "    </tr>\n",
       "    <tr>\n",
       "      <th>4</th>\n",
       "      <td>AB13623</td>\n",
       "      <td>BA6363</td>\n",
       "    </tr>\n",
       "    <tr>\n",
       "      <th>...</th>\n",
       "      <td>...</td>\n",
       "      <td>...</td>\n",
       "    </tr>\n",
       "    <tr>\n",
       "      <th>187350</th>\n",
       "      <td>AB14628</td>\n",
       "      <td>BA4227</td>\n",
       "    </tr>\n",
       "    <tr>\n",
       "      <th>187351</th>\n",
       "      <td>AB13877</td>\n",
       "      <td>BA4227</td>\n",
       "    </tr>\n",
       "    <tr>\n",
       "      <th>187352</th>\n",
       "      <td>AB13809</td>\n",
       "      <td>BA4227</td>\n",
       "    </tr>\n",
       "    <tr>\n",
       "      <th>187353</th>\n",
       "      <td>AB7558</td>\n",
       "      <td>BA4227</td>\n",
       "    </tr>\n",
       "    <tr>\n",
       "      <th>187354</th>\n",
       "      <td>AB15863</td>\n",
       "      <td>BA4227</td>\n",
       "    </tr>\n",
       "  </tbody>\n",
       "</table>\n",
       "<p>187355 rows × 2 columns</p>\n",
       "</div>"
      ],
      "text/plain": [
       "       head_label tail_label\n",
       "0         AB13623     BA5115\n",
       "1         AB13623     CA2249\n",
       "2         AB13623     BA5263\n",
       "3         AB13623     BA5167\n",
       "4         AB13623     BA6363\n",
       "...           ...        ...\n",
       "187350    AB14628     BA4227\n",
       "187351    AB13877     BA4227\n",
       "187352    AB13809     BA4227\n",
       "187353     AB7558     BA4227\n",
       "187354    AB15863     BA4227\n",
       "\n",
       "[187355 rows x 2 columns]"
      ]
     },
     "execution_count": 138,
     "metadata": {},
     "output_type": "execute_result"
    }
   ],
   "source": [
    "item_pair_set = pd.read_csv(\"csv file/activation 256dim/resnet_m_2/item_pair_set_top35.csv\")\n",
    "item_pair_set = item_pair_set[['head_label','tail_label']]\n",
    "item_pair_set"
   ]
  },
  {
   "cell_type": "code",
   "execution_count": 2,
   "metadata": {},
   "outputs": [
    {
     "data": {
      "text/html": [
       "<div>\n",
       "<style scoped>\n",
       "    .dataframe tbody tr th:only-of-type {\n",
       "        vertical-align: middle;\n",
       "    }\n",
       "\n",
       "    .dataframe tbody tr th {\n",
       "        vertical-align: top;\n",
       "    }\n",
       "\n",
       "    .dataframe thead th {\n",
       "        text-align: right;\n",
       "    }\n",
       "</style>\n",
       "<table border=\"1\" class=\"dataframe\">\n",
       "  <thead>\n",
       "    <tr style=\"text-align: right;\">\n",
       "      <th></th>\n",
       "      <th>Top</th>\n",
       "      <th>Bottom</th>\n",
       "    </tr>\n",
       "  </thead>\n",
       "  <tbody>\n",
       "    <tr>\n",
       "      <th>0</th>\n",
       "      <td>AB10078</td>\n",
       "      <td>BA4933</td>\n",
       "    </tr>\n",
       "    <tr>\n",
       "      <th>1</th>\n",
       "      <td>AB12878</td>\n",
       "      <td>BA5666</td>\n",
       "    </tr>\n",
       "    <tr>\n",
       "      <th>2</th>\n",
       "      <td>AB12961</td>\n",
       "      <td>BA5674</td>\n",
       "    </tr>\n",
       "    <tr>\n",
       "      <th>3</th>\n",
       "      <td>AB12670</td>\n",
       "      <td>BA5684</td>\n",
       "    </tr>\n",
       "    <tr>\n",
       "      <th>4</th>\n",
       "      <td>AB12295</td>\n",
       "      <td>BA5685</td>\n",
       "    </tr>\n",
       "    <tr>\n",
       "      <th>...</th>\n",
       "      <td>...</td>\n",
       "      <td>...</td>\n",
       "    </tr>\n",
       "    <tr>\n",
       "      <th>5058</th>\n",
       "      <td>AB17340</td>\n",
       "      <td>BA6747</td>\n",
       "    </tr>\n",
       "    <tr>\n",
       "      <th>5059</th>\n",
       "      <td>AB17376</td>\n",
       "      <td>BA6747</td>\n",
       "    </tr>\n",
       "    <tr>\n",
       "      <th>5060</th>\n",
       "      <td>AB17349</td>\n",
       "      <td>BA6780</td>\n",
       "    </tr>\n",
       "    <tr>\n",
       "      <th>5061</th>\n",
       "      <td>AB17461</td>\n",
       "      <td>BA6818</td>\n",
       "    </tr>\n",
       "    <tr>\n",
       "      <th>5062</th>\n",
       "      <td>AB17096</td>\n",
       "      <td>DA9097</td>\n",
       "    </tr>\n",
       "  </tbody>\n",
       "</table>\n",
       "<p>5063 rows × 2 columns</p>\n",
       "</div>"
      ],
      "text/plain": [
       "          Top  Bottom\n",
       "0     AB10078  BA4933\n",
       "1     AB12878  BA5666\n",
       "2     AB12961  BA5674\n",
       "3     AB12670  BA5684\n",
       "4     AB12295  BA5685\n",
       "...       ...     ...\n",
       "5058  AB17340  BA6747\n",
       "5059  AB17376  BA6747\n",
       "5060  AB17349  BA6780\n",
       "5061  AB17461  BA6818\n",
       "5062  AB17096  DA9097\n",
       "\n",
       "[5063 rows x 2 columns]"
      ]
     },
     "execution_count": 2,
     "metadata": {},
     "output_type": "execute_result"
    }
   ],
   "source": [
    "mixfitdata = pd.read_csv(\"csv file/mixFitData.csv\")[:5063]\n",
    "mixfitdata = mixfitdata[['Top', 'Bottom']]\n",
    "mixfitdata"
   ]
  },
  {
   "cell_type": "code",
   "execution_count": 142,
   "metadata": {},
   "outputs": [
    {
     "data": {
      "text/plain": [
       "34690"
      ]
     },
     "execution_count": 142,
     "metadata": {},
     "output_type": "execute_result"
    }
   ],
   "source": [
    "3469*10"
   ]
  },
  {
   "cell_type": "code",
   "execution_count": 144,
   "metadata": {},
   "outputs": [
    {
     "data": {
      "text/plain": [
       "69380"
      ]
     },
     "execution_count": 144,
     "metadata": {},
     "output_type": "execute_result"
    }
   ],
   "source": [
    "3469*20"
   ]
  },
  {
   "cell_type": "code",
   "execution_count": 146,
   "metadata": {},
   "outputs": [
    {
     "data": {
      "text/plain": [
       "104070"
      ]
     },
     "execution_count": 146,
     "metadata": {},
     "output_type": "execute_result"
    }
   ],
   "source": [
    "3469*30"
   ]
  },
  {
   "cell_type": "code",
   "execution_count": 18,
   "metadata": {},
   "outputs": [
    {
     "name": "stdout",
     "output_type": "stream",
     "text": [
      "evaluating top10 recall...\n"
     ]
    },
    {
     "name": "stderr",
     "output_type": "stream",
     "text": [
      "100%|██████████| 3469/3469 [00:07<00:00, 434.42it/s]\n",
      "100%|██████████| 1884/1884 [00:03<00:00, 484.48it/s]\n"
     ]
    },
    {
     "name": "stdout",
     "output_type": "stream",
     "text": [
      "recall 為 0% : 5185筆\n",
      "recall 為 2% : 1筆\n",
      "recall 為 4% : 1筆\n",
      "recall 為 7% : 1筆\n",
      "recall 為 8% : 1筆\n",
      "recall 為 10% : 3筆\n",
      "recall 為 12% : 3筆\n",
      "recall 為 13% : 1筆\n",
      "recall 為 14% : 1筆\n",
      "recall 為 17% : 5筆\n",
      "recall 為 20% : 3筆\n",
      "recall 為 25% : 7筆\n",
      "recall 為 33% : 12筆\n",
      "recall 為 50% : 46筆\n",
      "recall 為 100% : 83筆\n",
      "evaluating top20 recall...\n"
     ]
    },
    {
     "name": "stderr",
     "output_type": "stream",
     "text": [
      "100%|██████████| 3469/3469 [00:06<00:00, 509.93it/s]\n",
      "100%|██████████| 1884/1884 [00:03<00:00, 496.28it/s]\n"
     ]
    },
    {
     "name": "stdout",
     "output_type": "stream",
     "text": [
      "recall 為 0% : 5077筆\n",
      "recall 為 2% : 2筆\n",
      "recall 為 3% : 2筆\n",
      "recall 為 4% : 2筆\n",
      "recall 為 7% : 1筆\n",
      "recall 為 8% : 2筆\n",
      "recall 為 10% : 3筆\n",
      "recall 為 12% : 4筆\n",
      "recall 為 13% : 1筆\n",
      "recall 為 14% : 2筆\n",
      "recall 為 17% : 6筆\n",
      "recall 為 20% : 6筆\n",
      "recall 為 25% : 11筆\n",
      "recall 為 33% : 26筆\n",
      "recall 為 40% : 1筆\n",
      "recall 為 50% : 77筆\n",
      "recall 為 67% : 1筆\n",
      "recall 為 100% : 129筆\n",
      "evaluating top30 recall...\n"
     ]
    },
    {
     "name": "stderr",
     "output_type": "stream",
     "text": [
      "100%|██████████| 3469/3469 [00:06<00:00, 515.23it/s]\n",
      "100%|██████████| 1884/1884 [00:03<00:00, 494.99it/s]\n"
     ]
    },
    {
     "name": "stdout",
     "output_type": "stream",
     "text": [
      "recall 為 0% : 4979筆\n",
      "recall 為 2% : 1筆\n",
      "recall 為 3% : 3筆\n",
      "recall 為 4% : 3筆\n",
      "recall 為 5% : 1筆\n",
      "recall 為 7% : 2筆\n",
      "recall 為 8% : 2筆\n",
      "recall 為 10% : 3筆\n",
      "recall 為 11% : 2筆\n",
      "recall 為 12% : 3筆\n",
      "recall 為 13% : 1筆\n",
      "recall 為 14% : 1筆\n",
      "recall 為 17% : 8筆\n",
      "recall 為 20% : 8筆\n",
      "recall 為 25% : 23筆\n",
      "recall 為 28% : 1筆\n",
      "recall 為 30% : 1筆\n",
      "recall 為 33% : 29筆\n",
      "recall 為 40% : 1筆\n",
      "recall 為 50% : 99筆\n",
      "recall 為 67% : 3筆\n",
      "recall 為 100% : 179筆\n",
      "evaluating top40 recall...\n"
     ]
    },
    {
     "name": "stderr",
     "output_type": "stream",
     "text": [
      "100%|██████████| 3469/3469 [00:06<00:00, 515.05it/s]\n",
      "100%|██████████| 1884/1884 [00:03<00:00, 494.13it/s]\n"
     ]
    },
    {
     "name": "stdout",
     "output_type": "stream",
     "text": [
      "recall 為 0% : 4893筆\n",
      "recall 為 1% : 1筆\n",
      "recall 為 2% : 3筆\n",
      "recall 為 3% : 3筆\n",
      "recall 為 4% : 3筆\n",
      "recall 為 5% : 1筆\n",
      "recall 為 7% : 3筆\n",
      "recall 為 8% : 2筆\n",
      "recall 為 10% : 3筆\n",
      "recall 為 11% : 3筆\n",
      "recall 為 12% : 3筆\n",
      "recall 為 13% : 1筆\n",
      "recall 為 14% : 2筆\n",
      "recall 為 17% : 8筆\n",
      "recall 為 20% : 8筆\n",
      "recall 為 25% : 23筆\n",
      "recall 為 28% : 1筆\n",
      "recall 為 30% : 1筆\n",
      "recall 為 33% : 40筆\n",
      "recall 為 40% : 1筆\n",
      "recall 為 50% : 129筆\n",
      "recall 為 67% : 4筆\n",
      "recall 為 100% : 217筆\n",
      "evaluating top50 recall...\n"
     ]
    },
    {
     "name": "stderr",
     "output_type": "stream",
     "text": [
      "100%|██████████| 3469/3469 [00:07<00:00, 463.92it/s]\n",
      "100%|██████████| 1884/1884 [00:04<00:00, 431.03it/s]"
     ]
    },
    {
     "name": "stdout",
     "output_type": "stream",
     "text": [
      "recall 為 0% : 4815筆\n",
      "recall 為 2% : 2筆\n",
      "recall 為 3% : 4筆\n",
      "recall 為 4% : 3筆\n",
      "recall 為 5% : 2筆\n",
      "recall 為 6% : 2筆\n",
      "recall 為 7% : 3筆\n",
      "recall 為 8% : 2筆\n",
      "recall 為 10% : 4筆\n",
      "recall 為 11% : 4筆\n",
      "recall 為 12% : 1筆\n",
      "recall 為 14% : 2筆\n",
      "recall 為 17% : 8筆\n",
      "recall 為 20% : 10筆\n",
      "recall 為 25% : 24筆\n",
      "recall 為 30% : 1筆\n",
      "recall 為 31% : 1筆\n",
      "recall 為 33% : 45筆\n",
      "recall 為 40% : 2筆\n",
      "recall 為 43% : 1筆\n",
      "recall 為 50% : 155筆\n",
      "recall 為 67% : 5筆\n",
      "recall 為 100% : 257筆\n"
     ]
    },
    {
     "name": "stderr",
     "output_type": "stream",
     "text": [
      "\n"
     ]
    }
   ],
   "source": [
    "for k in [10,20,30,40,50]:#[50]:\n",
    "    print(f'evaluating top{k} recall...')\n",
    "    item_pair_set = pd.read_csv(f'img and ch label/csv file/512 tanh/m_3/item_pair_set_top{k}.csv')\n",
    "    item_pair_set = item_pair_set[['head_label','tail_label']]\n",
    "\n",
    "    df_len = len(item_pair_set)\n",
    "    if df_len == (5353*10):\n",
    "        top_end = (3469*10)\n",
    "    elif df_len == (5353*20):\n",
    "        top_end = (3469*20)\n",
    "    elif df_len ==(5353*30) :\n",
    "        top_end = (3469*30)\n",
    "    elif df_len == (5353*40):\n",
    "        top_end = (3469*40)\n",
    "    elif df_len == (5353*50):\n",
    "        top_end = (3469*50)\n",
    "\n",
    "    top_ans_gr = mixfitdata.groupby('Top')\n",
    "    bottom_ans_gr = mixfitdata.groupby('Bottom')\n",
    "    top_pred_gr = item_pair_set[0:top_end].groupby('head_label')\n",
    "    bottom_pred_gr = item_pair_set[top_end:].groupby('tail_label')\n",
    "\n",
    "    top_ans_keys = list(top_ans_gr.groups.keys())\n",
    "    bottom_ans_keys = list(bottom_ans_gr.groups.keys())\n",
    "    top_pred_keys = list(top_pred_gr.groups.keys())\n",
    "    bottom_pred_keys = list(bottom_pred_gr.groups.keys())\n",
    "    topk_df = pd.DataFrame(columns=['query','recall','detail'])\n",
    "\n",
    "    for keys in tqdm(top_pred_keys, total=len(top_pred_keys)):\n",
    "        pred_gr = top_pred_gr.get_group(keys)\n",
    "        pred_list = list(pred_gr.tail_label)\n",
    "        ans_gr = top_ans_gr.get_group(keys)\n",
    "        ans_list = list(ans_gr.Bottom)\n",
    "        correct_ct = 0\n",
    "        for pred in pred_list:\n",
    "            if pred in ans_list:\n",
    "                correct_ct += 1\n",
    "        topk_recall = round(correct_ct/len(ans_list), 2)#取小數到後面第二位 也可用format方法 出來是字串\n",
    "        topk_detail = f'{len(ans_list)}中{correct_ct}'\n",
    "        topk_df.loc[len(topk_df)] = [keys, topk_recall, topk_detail]\n",
    "\n",
    "    for keys in tqdm(bottom_pred_keys, total=len(bottom_pred_keys)):\n",
    "        pred_gr = bottom_pred_gr.get_group(keys)\n",
    "        pred_list = list(pred_gr.head_label)\n",
    "        ans_gr = bottom_ans_gr.get_group(keys)\n",
    "        ans_list = list(ans_gr.Top)\n",
    "        correct_ct = 0\n",
    "        for pred in pred_list:\n",
    "            if pred in ans_list:\n",
    "                correct_ct += 1\n",
    "        topk_recall = round(correct_ct/len(ans_list), 2)\n",
    "        topk_detail = f'{len(ans_list)}中{correct_ct}'\n",
    "        topk_df.loc[len(topk_df)] = [keys, topk_recall, topk_detail]\n",
    "    \n",
    "    recall_gr = topk_df.groupby('recall')\n",
    "    recall_prob = list(set(topk_df.recall))\n",
    "    recall_prob.sort()\n",
    "    for i in recall_prob:\n",
    "        print(f'recall 為 {int(i*100)}% : {len(recall_gr.get_group(i))}筆')"
   ]
  },
  {
   "cell_type": "code",
   "execution_count": 5,
   "metadata": {},
   "outputs": [
    {
     "data": {
      "text/html": [
       "<div>\n",
       "<style scoped>\n",
       "    .dataframe tbody tr th:only-of-type {\n",
       "        vertical-align: middle;\n",
       "    }\n",
       "\n",
       "    .dataframe tbody tr th {\n",
       "        vertical-align: top;\n",
       "    }\n",
       "\n",
       "    .dataframe thead th {\n",
       "        text-align: right;\n",
       "    }\n",
       "</style>\n",
       "<table border=\"1\" class=\"dataframe\">\n",
       "  <thead>\n",
       "    <tr style=\"text-align: right;\">\n",
       "      <th></th>\n",
       "      <th>query</th>\n",
       "      <th>recall</th>\n",
       "      <th>detail</th>\n",
       "    </tr>\n",
       "  </thead>\n",
       "  <tbody>\n",
       "    <tr>\n",
       "      <th>0</th>\n",
       "      <td>AB0116</td>\n",
       "      <td>0.0</td>\n",
       "      <td>3中0</td>\n",
       "    </tr>\n",
       "    <tr>\n",
       "      <th>1</th>\n",
       "      <td>AB0194</td>\n",
       "      <td>0.0</td>\n",
       "      <td>1中0</td>\n",
       "    </tr>\n",
       "    <tr>\n",
       "      <th>2</th>\n",
       "      <td>AB0391</td>\n",
       "      <td>0.0</td>\n",
       "      <td>2中0</td>\n",
       "    </tr>\n",
       "    <tr>\n",
       "      <th>3</th>\n",
       "      <td>AB0435</td>\n",
       "      <td>0.0</td>\n",
       "      <td>1中0</td>\n",
       "    </tr>\n",
       "    <tr>\n",
       "      <th>4</th>\n",
       "      <td>AB0901</td>\n",
       "      <td>0.0</td>\n",
       "      <td>1中0</td>\n",
       "    </tr>\n",
       "    <tr>\n",
       "      <th>...</th>\n",
       "      <td>...</td>\n",
       "      <td>...</td>\n",
       "      <td>...</td>\n",
       "    </tr>\n",
       "    <tr>\n",
       "      <th>5348</th>\n",
       "      <td>DA9328</td>\n",
       "      <td>0.0</td>\n",
       "      <td>1中0</td>\n",
       "    </tr>\n",
       "    <tr>\n",
       "      <th>5349</th>\n",
       "      <td>DA9337</td>\n",
       "      <td>0.0</td>\n",
       "      <td>2中0</td>\n",
       "    </tr>\n",
       "    <tr>\n",
       "      <th>5350</th>\n",
       "      <td>DA9343</td>\n",
       "      <td>0.0</td>\n",
       "      <td>1中0</td>\n",
       "    </tr>\n",
       "    <tr>\n",
       "      <th>5351</th>\n",
       "      <td>DA9350</td>\n",
       "      <td>0.0</td>\n",
       "      <td>1中0</td>\n",
       "    </tr>\n",
       "    <tr>\n",
       "      <th>5352</th>\n",
       "      <td>DA9370</td>\n",
       "      <td>0.0</td>\n",
       "      <td>1中0</td>\n",
       "    </tr>\n",
       "  </tbody>\n",
       "</table>\n",
       "<p>5353 rows × 3 columns</p>\n",
       "</div>"
      ],
      "text/plain": [
       "       query  recall detail\n",
       "0     AB0116     0.0    3中0\n",
       "1     AB0194     0.0    1中0\n",
       "2     AB0391     0.0    2中0\n",
       "3     AB0435     0.0    1中0\n",
       "4     AB0901     0.0    1中0\n",
       "...      ...     ...    ...\n",
       "5348  DA9328     0.0    1中0\n",
       "5349  DA9337     0.0    2中0\n",
       "5350  DA9343     0.0    1中0\n",
       "5351  DA9350     0.0    1中0\n",
       "5352  DA9370     0.0    1中0\n",
       "\n",
       "[5353 rows x 3 columns]"
      ]
     },
     "execution_count": 5,
     "metadata": {},
     "output_type": "execute_result"
    }
   ],
   "source": [
    "topk_df"
   ]
  },
  {
   "cell_type": "code",
   "execution_count": 6,
   "metadata": {},
   "outputs": [],
   "source": [
    "topk_df.to_csv(f'512dim_m_3.csv',index=0, encoding='utf-8-sig')"
   ]
  },
  {
   "cell_type": "code",
   "execution_count": 10,
   "metadata": {},
   "outputs": [
    {
     "name": "stdout",
     "output_type": "stream",
     "text": [
      "recall 為 0% : 5309筆\n",
      "recall 為 2% : 1筆\n",
      "recall 為 4% : 1筆\n",
      "recall 為 6% : 1筆\n",
      "recall 為 7% : 2筆\n",
      "recall 為 14% : 1筆\n",
      "recall 為 25% : 2筆\n",
      "recall 為 33% : 4筆\n",
      "recall 為 50% : 17筆\n",
      "recall 為 100% : 15筆\n"
     ]
    }
   ],
   "source": [
    "recall_gr = topk_df.groupby('recall')\n",
    "recall_prob = list(set(topk_df.recall))\n",
    "recall_prob.sort()\n",
    "for i in recall_prob:\n",
    "    print(f'recall 為 {int(i*100)}% : {len(recall_gr.get_group(i))}筆')\n",
    "    "
   ]
  },
  {
   "cell_type": "code",
   "execution_count": 11,
   "metadata": {},
   "outputs": [],
   "source": [
    "# plt.bar(['0%','8%','12%','33%','50%','100%'], [5328,1,1,4,10,9],width=0.5, bottom=None, align='center', color=['lightsteelblue', 'cornflowerblue', 'royalblue', 'midnightblue', 'navy', 'darkblue', 'mediumblue'])\n",
    "# # plt.xticks(rotation='vertical')\n",
    "# plt.show()"
   ]
  }
 ],
 "metadata": {
  "kernelspec": {
   "display_name": "Python 3",
   "language": "python",
   "name": "python3"
  },
  "language_info": {
   "codemirror_mode": {
    "name": "ipython",
    "version": 3
   },
   "file_extension": ".py",
   "mimetype": "text/x-python",
   "name": "python",
   "nbconvert_exporter": "python",
   "pygments_lexer": "ipython3",
   "version": "3.8.16"
  },
  "orig_nbformat": 4,
  "vscode": {
   "interpreter": {
    "hash": "285e4d2c54d733dbcc3353af8f0e84aa12988b68f0a7a29dc07dbe7336d2825b"
   }
  }
 },
 "nbformat": 4,
 "nbformat_minor": 2
}
