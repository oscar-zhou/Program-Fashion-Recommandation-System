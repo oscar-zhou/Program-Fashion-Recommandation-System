{
 "cells": [
  {
   "cell_type": "code",
   "execution_count": 1,
   "metadata": {},
   "outputs": [
    {
     "name": "stderr",
     "output_type": "stream",
     "text": [
      "c:\\Users\\HZT\\miniconda3\\envs\\pytorch\\lib\\site-packages\\tqdm\\auto.py:22: TqdmWarning: IProgress not found. Please update jupyter and ipywidgets. See https://ipywidgets.readthedocs.io/en/stable/user_install.html\n",
      "  from .autonotebook import tqdm as notebook_tqdm\n"
     ]
    }
   ],
   "source": [
    "import pandas as pd\n",
    "import torch\n",
    "from torchvision import transforms\n",
    "from PIL import Image\n",
    "import os\n",
    "from tqdm import tqdm\n",
    "import cv2\n",
    "import numpy as np\n",
    "from torchvision import datasets, transforms\n",
    "\n",
    "import torch.nn as nn\n",
    "from torchvision import models\n",
    "import torch.optim as optim\n",
    "from torch.autograd import Variable\n"
   ]
  },
  {
   "cell_type": "code",
   "execution_count": 2,
   "metadata": {},
   "outputs": [],
   "source": [
    "\n",
    "all_sample=pd.read_csv(\"all_sample.csv\")\n",
    "negative_data=all_sample[all_sample[\"type\"]==\"not_fit\"]\n",
    "postive_data=all_sample[all_sample[\"type\"]==\"fit\"]\n",
    "\n",
    "\n",
    "#訓練2500 測試500\n",
    "train_P=postive_data.sample(3000,random_state=178)\n",
    "train_N=negative_data.sample(3000,random_state=198)\n",
    "test_P=train_P.sample(500,random_state=73)\n",
    "test_N=train_N.sample(500,random_state=65)\n",
    "\n",
    "train_P=train_P.drop(test_P.index)\n",
    "train_N=train_N.drop(test_N.index)\n",
    "\n",
    "train_P=train_P.sort_values(by=[\"source\",\"target\"]).reset_index(drop=True)\n",
    "train_N=train_N.sort_values(by=[\"source\",\"target\"]).reset_index(drop=True)\n",
    "test_P=test_P.sort_values(by=[\"source\",\"target\"]).reset_index(drop=True)\n",
    "test_N=test_N.sort_values(by=[\"source\",\"target\"]).reset_index(drop=True)"
   ]
  },
  {
   "cell_type": "code",
   "execution_count": 3,
   "metadata": {},
   "outputs": [],
   "source": [
    "\n",
    "transform=transforms.Compose([\n",
    "    transforms.Resize(224), #缩放图片，保持长宽比不变，最短边的长为224像素,\n",
    "    #transforms.CenterCrop([150,224]), #从中间切出 150*224的图片\n",
    "])\n"
   ]
  },
  {
   "cell_type": "code",
   "execution_count": 4,
   "metadata": {},
   "outputs": [
    {
     "name": "stderr",
     "output_type": "stream",
     "text": [
      "100%|██████████| 17000/17000 [09:53<00:00, 28.66it/s]\n"
     ]
    }
   ],
   "source": [
    "imgs=os.listdir(\"OB_imgs\")\n",
    "pbar=tqdm(total=len(imgs))\n",
    "for img in imgs:\n",
    "    path=\"OB_imgs/\"+img\n",
    "    pil_img=Image.open(path)\n",
    "    ttt=transform(pil_img)\n",
    "    save_dir=\"no_crop_img_test/\"+img\n",
    "    ttt.save(save_dir)\n",
    "    pbar.update(1)\n",
    "\n",
    "pbar.close()\n",
    "    "
   ]
  },
  {
   "cell_type": "code",
   "execution_count": 5,
   "metadata": {},
   "outputs": [],
   "source": [
    "def v_merge_img(data_df):\n",
    "    source=list(data_df[\"source\"])\n",
    "    target=list(data_df[\"target\"])\n",
    "    type=list(data_df[\"type\"])[0]\n",
    "    if(len(data_df)==2500 and type==\"fit\"):\n",
    "        folder_name=\"noc_train/fit\"\n",
    "    elif(len(data_df)==2500 and type==\"not_fit\"):\n",
    "        folder_name=\"noc_train/not_fit\"\n",
    "    elif(len(data_df)==500 and type==\"fit\"):\n",
    "        folder_name=\"noc_test/fit\"\n",
    "    elif(len(data_df)==500 and type==\"not_fit\"):\n",
    "        folder_name=\"noc_test/not_fit\"\n",
    "\n",
    "    if (os.path.exists(folder_name)==False):\n",
    "        os.mkdir(folder_name)\n",
    "\n",
    "    for i,top in enumerate(source):\n",
    "        top_dir=\"no_crop_img_test/\"+top+\".png\"\n",
    "        bottom_dir=\"no_crop_img_test/\"+target[i]+\".png\"\n",
    "        \n",
    "        top_img = cv2.imread(top_dir)\n",
    "        bottom_img = cv2.imread(bottom_dir)\n",
    "        fit_img = np.vstack([top_img, bottom_img])  # 垂直拼接\n",
    "\n",
    "        fit_img_dir=folder_name+\"/fit\"+str(i)+\".png\"\n",
    "        cv2.imwrite(fit_img_dir,fit_img)\n",
    "        \n",
    "   \n"
   ]
  },
  {
   "cell_type": "code",
   "execution_count": 6,
   "metadata": {},
   "outputs": [],
   "source": [
    "v_merge_img(test_P)\n",
    "v_merge_img(test_N)\n",
    "\n",
    "v_merge_img(train_P)\n",
    "v_merge_img(train_N)\n"
   ]
  },
  {
   "cell_type": "code",
   "execution_count": 7,
   "metadata": {},
   "outputs": [],
   "source": [
    "transform2=transforms.Compose([\n",
    "    transforms.Resize([224,224]), #缩放图片，保持长宽比不变，最短边的长为224像素,\n",
    "    transforms.ToTensor(), #将图片转换为Tensor,归一化至[0,1]\n",
    "    transforms.Normalize(mean=[.5,.5,.5],std=[.5,.5,.5]) #标准化至[-1,1]\n",
    "])\n",
    "\n",
    "batch_size=16\n",
    "\n",
    "train_dir = \"train\"           \n",
    "#定義數據集\n",
    "train_datasets = datasets.ImageFolder(train_dir, transform=transform2)\n",
    "#加載數據集\n",
    "train_dataloader = torch.utils.data.DataLoader(train_datasets, batch_size=batch_size, shuffle=True)\n",
    "\n",
    "val_dir = \"test\"\t\t\n",
    "val_datasets = datasets.ImageFolder(val_dir, transform=transform2)\n",
    "val_dataloader = torch.utils.data.DataLoader(val_datasets, batch_size=batch_size, shuffle=False)"
   ]
  },
  {
   "cell_type": "code",
   "execution_count": 8,
   "metadata": {},
   "outputs": [],
   "source": [
    "class VGGNet(nn.Module):\n",
    "    def __init__(self, num_classes=2):\n",
    "        super(VGGNet, self).__init__()\n",
    "        net = models.vgg16(pretrained=False)\n",
    "        net.classifier = nn.Sequential()\n",
    "        self.features = net\n",
    "        self.classifier = nn.Sequential(\n",
    "                nn.Linear(512 * 7 * 7, 512),\n",
    "                nn.ReLU(True),\n",
    "                nn.Dropout(),\n",
    "                nn.Linear(512, 128),\n",
    "                nn.ReLU(True),\n",
    "                nn.Dropout(),\n",
    "                nn.Linear(128, num_classes),\n",
    "        )\n",
    "\n",
    "    def forward(self, x):\n",
    "        x = self.features(x)\n",
    "        x = x.view(x.size(0), -1)\n",
    "        x = self.classifier(x)\n",
    "        return x"
   ]
  },
  {
   "cell_type": "code",
   "execution_count": 9,
   "metadata": {},
   "outputs": [
    {
     "name": "stderr",
     "output_type": "stream",
     "text": [
      "c:\\Users\\HZT\\miniconda3\\envs\\pytorch\\lib\\site-packages\\torchvision\\models\\_utils.py:208: UserWarning: The parameter 'pretrained' is deprecated since 0.13 and will be removed in 0.15, please use 'weights' instead.\n",
      "  warnings.warn(\n",
      "c:\\Users\\HZT\\miniconda3\\envs\\pytorch\\lib\\site-packages\\torchvision\\models\\_utils.py:223: UserWarning: Arguments other than a weight enum or `None` for 'weights' are deprecated since 0.13 and will be removed in 0.15. The current behavior is equivalent to passing `weights=None`.\n",
      "  warnings.warn(msg)\n"
     ]
    },
    {
     "name": "stdout",
     "output_type": "stream",
     "text": [
      "epoch 1\n"
     ]
    },
    {
     "name": "stderr",
     "output_type": "stream",
     "text": [
      "100%|██████████| 313/313 [00:28<00:00, 10.82it/s]\n"
     ]
    },
    {
     "name": "stdout",
     "output_type": "stream",
     "text": [
      "Train Loss: 0.043427, Acc: 0.510600\n",
      "Test Loss: 0.043660, Acc: 0.500000\n",
      "epoch 2\n"
     ]
    },
    {
     "name": "stderr",
     "output_type": "stream",
     "text": [
      "100%|██████████| 313/313 [00:26<00:00, 11.81it/s]\n"
     ]
    },
    {
     "name": "stdout",
     "output_type": "stream",
     "text": [
      "Train Loss: 0.043337, Acc: 0.520200\n",
      "Test Loss: 0.043026, Acc: 0.606000\n",
      "epoch 3\n"
     ]
    },
    {
     "name": "stderr",
     "output_type": "stream",
     "text": [
      "100%|██████████| 313/313 [00:26<00:00, 11.76it/s]\n"
     ]
    },
    {
     "name": "stdout",
     "output_type": "stream",
     "text": [
      "Train Loss: 0.038327, Acc: 0.661400\n",
      "Test Loss: 0.030502, Acc: 0.757000\n",
      "epoch 4\n"
     ]
    },
    {
     "name": "stderr",
     "output_type": "stream",
     "text": [
      "100%|██████████| 313/313 [00:26<00:00, 11.75it/s]\n"
     ]
    },
    {
     "name": "stdout",
     "output_type": "stream",
     "text": [
      "Train Loss: 0.026523, Acc: 0.801600\n",
      "Test Loss: 0.022486, Acc: 0.825000\n",
      "epoch 5\n"
     ]
    },
    {
     "name": "stderr",
     "output_type": "stream",
     "text": [
      "100%|██████████| 313/313 [00:26<00:00, 11.73it/s]\n"
     ]
    },
    {
     "name": "stdout",
     "output_type": "stream",
     "text": [
      "Train Loss: 0.020892, Acc: 0.851000\n",
      "Test Loss: 0.023868, Acc: 0.846000\n",
      "epoch 6\n"
     ]
    },
    {
     "name": "stderr",
     "output_type": "stream",
     "text": [
      "100%|██████████| 313/313 [00:26<00:00, 11.70it/s]\n"
     ]
    },
    {
     "name": "stdout",
     "output_type": "stream",
     "text": [
      "Train Loss: 0.018134, Acc: 0.876400\n",
      "Test Loss: 0.022090, Acc: 0.855000\n",
      "epoch 7\n"
     ]
    },
    {
     "name": "stderr",
     "output_type": "stream",
     "text": [
      "100%|██████████| 313/313 [00:26<00:00, 11.69it/s]\n"
     ]
    },
    {
     "name": "stdout",
     "output_type": "stream",
     "text": [
      "Train Loss: 0.016035, Acc: 0.887600\n",
      "Test Loss: 0.020873, Acc: 0.841000\n",
      "epoch 8\n"
     ]
    },
    {
     "name": "stderr",
     "output_type": "stream",
     "text": [
      "100%|██████████| 313/313 [00:26<00:00, 11.69it/s]\n"
     ]
    },
    {
     "name": "stdout",
     "output_type": "stream",
     "text": [
      "Train Loss: 0.012892, Acc: 0.913400\n",
      "Test Loss: 0.017016, Acc: 0.887000\n",
      "epoch 9\n"
     ]
    },
    {
     "name": "stderr",
     "output_type": "stream",
     "text": [
      "100%|██████████| 313/313 [00:26<00:00, 11.68it/s]\n"
     ]
    },
    {
     "name": "stdout",
     "output_type": "stream",
     "text": [
      "Train Loss: 0.009938, Acc: 0.936800\n",
      "Test Loss: 0.016747, Acc: 0.894000\n",
      "epoch 10\n"
     ]
    },
    {
     "name": "stderr",
     "output_type": "stream",
     "text": [
      "100%|██████████| 313/313 [00:26<00:00, 11.68it/s]\n"
     ]
    },
    {
     "name": "stdout",
     "output_type": "stream",
     "text": [
      "Train Loss: 0.007253, Acc: 0.953200\n",
      "Test Loss: 0.019375, Acc: 0.892000\n",
      "epoch 11\n"
     ]
    },
    {
     "name": "stderr",
     "output_type": "stream",
     "text": [
      "100%|██████████| 313/313 [00:26<00:00, 11.68it/s]\n"
     ]
    },
    {
     "name": "stdout",
     "output_type": "stream",
     "text": [
      "Train Loss: 0.005594, Acc: 0.967200\n",
      "Test Loss: 0.020201, Acc: 0.903000\n",
      "epoch 12\n"
     ]
    },
    {
     "name": "stderr",
     "output_type": "stream",
     "text": [
      "100%|██████████| 313/313 [00:26<00:00, 11.68it/s]\n"
     ]
    },
    {
     "name": "stdout",
     "output_type": "stream",
     "text": [
      "Train Loss: 0.003910, Acc: 0.978800\n",
      "Test Loss: 0.030319, Acc: 0.887000\n",
      "epoch 13\n"
     ]
    },
    {
     "name": "stderr",
     "output_type": "stream",
     "text": [
      "100%|██████████| 313/313 [00:26<00:00, 11.69it/s]\n"
     ]
    },
    {
     "name": "stdout",
     "output_type": "stream",
     "text": [
      "Train Loss: 0.003558, Acc: 0.978800\n",
      "Test Loss: 0.025057, Acc: 0.912000\n",
      "epoch 14\n"
     ]
    },
    {
     "name": "stderr",
     "output_type": "stream",
     "text": [
      "100%|██████████| 313/313 [00:26<00:00, 11.68it/s]\n"
     ]
    },
    {
     "name": "stdout",
     "output_type": "stream",
     "text": [
      "Train Loss: 0.003129, Acc: 0.984600\n",
      "Test Loss: 0.021015, Acc: 0.911000\n",
      "epoch 15\n"
     ]
    },
    {
     "name": "stderr",
     "output_type": "stream",
     "text": [
      "100%|██████████| 313/313 [00:26<00:00, 11.69it/s]\n"
     ]
    },
    {
     "name": "stdout",
     "output_type": "stream",
     "text": [
      "Train Loss: 0.002483, Acc: 0.985800\n",
      "Test Loss: 0.020712, Acc: 0.899000\n",
      "epoch 16\n"
     ]
    },
    {
     "name": "stderr",
     "output_type": "stream",
     "text": [
      "100%|██████████| 313/313 [00:26<00:00, 11.68it/s]\n"
     ]
    },
    {
     "name": "stdout",
     "output_type": "stream",
     "text": [
      "Train Loss: 0.001510, Acc: 0.992400\n",
      "Test Loss: 0.028141, Acc: 0.889000\n",
      "epoch 17\n"
     ]
    },
    {
     "name": "stderr",
     "output_type": "stream",
     "text": [
      "100%|██████████| 313/313 [00:26<00:00, 11.68it/s]\n"
     ]
    },
    {
     "name": "stdout",
     "output_type": "stream",
     "text": [
      "Train Loss: 0.001537, Acc: 0.993000\n",
      "Test Loss: 0.024782, Acc: 0.906000\n",
      "epoch 18\n"
     ]
    },
    {
     "name": "stderr",
     "output_type": "stream",
     "text": [
      "100%|██████████| 313/313 [00:26<00:00, 11.68it/s]\n"
     ]
    },
    {
     "name": "stdout",
     "output_type": "stream",
     "text": [
      "Train Loss: 0.001234, Acc: 0.994800\n",
      "Test Loss: 0.026825, Acc: 0.909000\n",
      "epoch 19\n"
     ]
    },
    {
     "name": "stderr",
     "output_type": "stream",
     "text": [
      "100%|██████████| 313/313 [00:26<00:00, 11.68it/s]\n"
     ]
    },
    {
     "name": "stdout",
     "output_type": "stream",
     "text": [
      "Train Loss: 0.001635, Acc: 0.991800\n",
      "Test Loss: 0.023379, Acc: 0.909000\n",
      "epoch 20\n"
     ]
    },
    {
     "name": "stderr",
     "output_type": "stream",
     "text": [
      "100%|██████████| 313/313 [00:26<00:00, 11.68it/s]\n"
     ]
    },
    {
     "name": "stdout",
     "output_type": "stream",
     "text": [
      "Train Loss: 0.001442, Acc: 0.993400\n",
      "Test Loss: 0.028754, Acc: 0.895000\n"
     ]
    }
   ],
   "source": [
    "learning_rate = 5e-5\n",
    "epoch = 20\n",
    "\n",
    "model = VGGNet()\n",
    "if torch.cuda.is_available():\n",
    "    model.cuda()\n",
    "params = [{'params': md.parameters()} for md in model.children()\n",
    "          if md in [model.classifier]]\n",
    "optimizer = optim.Adam(model.parameters(), lr=learning_rate)\n",
    "loss_func = nn.CrossEntropyLoss()\n",
    "\n",
    "model.train()\n",
    "\n",
    "loss_list = []\n",
    "accuracy_list = []\n",
    "tr_loss_list = []\n",
    "tr_accuracy_list = []\n",
    "\n",
    "for i in range(epoch):\n",
    "    print('epoch {}'.format(i + 1))\n",
    "    train_loss = 0.\n",
    "    train_acc = 0.\n",
    "    pbar=tqdm(total=len(train_dataloader))\n",
    "    for img, label in train_dataloader:\n",
    "        img = Variable(img).cuda()\n",
    "        label = Variable(label).cuda()\n",
    "        optimizer.zero_grad()\n",
    "        output = model(img)\n",
    "        loss = loss_func(output, label)\n",
    "        train_loss += loss.item()\n",
    "        pred = torch.max(output, 1)[1]\n",
    "        train_correct = (pred == label).sum()\n",
    "        train_acc += train_correct.item()\n",
    "        loss.backward()\n",
    "        optimizer.step()\n",
    "        pbar.update(1)\n",
    "    pbar.close()\n",
    "\n",
    "    print('Train Loss: {:.6f}, Acc: {:.6f}'.format(train_loss / (len(train_datasets)), train_acc / (len(train_datasets))))\n",
    "    tr_loss_list.append(train_loss / (len(train_datasets)))\n",
    "    tr_accuracy_list.append(100 * train_acc / (len(train_datasets)))\n",
    "\n",
    "    # evaluation--------------------------------\n",
    "    model.eval()\n",
    "    eval_loss = 0.\n",
    "    eval_acc = 0.\n",
    "    for img, label in val_dataloader:\n",
    "        img = Variable(img).cuda()\n",
    "        label = Variable(label).cuda()\n",
    "        out = model(img)\n",
    "        loss = loss_func(out, label)\n",
    "        eval_loss += loss.item()\n",
    "        pred = torch.max(out, 1)[1]\n",
    "        num_correct = (pred == label).sum()\n",
    "        eval_acc += num_correct.item()\n",
    "    print('Test Loss: {:.6f}, Acc: {:.6f}'.format(eval_loss / (len(val_datasets)), eval_acc / (len(val_datasets))))\n",
    "    loss_list.append(eval_loss / (len(val_datasets)))\n",
    "    accuracy_list.append(100 * eval_acc / (len(val_datasets)))"
   ]
  },
  {
   "cell_type": "code",
   "execution_count": 10,
   "metadata": {},
   "outputs": [
    {
     "data": {
      "image/png": "[encoded data removed]",
      "text/plain": [
       "<Figure size 432x288 with 2 Axes>"
      ]
     },
     "metadata": {
      "needs_background": "light"
     },
     "output_type": "display_data"
    }
   ],
   "source": [
    "import matplotlib.pyplot as plt\n",
    "\n",
    "x1 = range(0, 20)\n",
    "x2 = range(0, 20)\n",
    "y1 = accuracy_list\n",
    "y2 = loss_list\n",
    "plt.subplot(2, 1, 1)\n",
    "plt.plot(x1, y1, 'o-')\n",
    "plt.title('Test accuracy vs. epoches')\n",
    "plt.ylabel('Test accuracy')\n",
    "plt.subplot(2, 1, 2)\n",
    "plt.plot(x2, y2, '.-')\n",
    "plt.xlabel('Test loss vs. epoches')\n",
    "plt.ylabel('Test loss')\n",
    "plt.show()\n",
    "# plt.savefig(\"accuracy_loss.jpg\")\n"
   ]
  },
  {
   "cell_type": "code",
   "execution_count": 11,
   "metadata": {},
   "outputs": [
    {
     "data": {
      "image/png": "[encoded data removed]",
      "text/plain": [
       "<Figure size 432x288 with 1 Axes>"
      ]
     },
     "metadata": {
      "needs_background": "light"
     },
     "output_type": "display_data"
    }
   ],
   "source": [
    "#distplot\n",
    "import matplotlib.pyplot as plt\n",
    "epochs =[i+1 for i in range(20)]\n",
    "plt.plot(epochs,tr_loss_list, color='red', label='Train')\n",
    "plt.plot(epochs,loss_list, '--', color='blue', label='Valid')\n",
    "#plt.title('CrossEntropy') # title\n",
    "plt.ylabel(\"Loss\") # y label\n",
    "plt.xlabel(\"Epochs\") # x label\n",
    "plt.legend() #圖例\n",
    "#plt.savefig('.\\\\Model\\\\0618\\\\t_model_' + str(isbalence) + 'bz' + str(batch_sizes) + '_' + str(num_epochs) + '.png') #儲存圖檔\n",
    "#plt.savefig('.\\\\Model\\\\0618\\\\實驗' + str(testnum) + '.png') #儲存圖檔\n",
    "plt.show()"
   ]
  },
  {
   "cell_type": "code",
   "execution_count": 12,
   "metadata": {},
   "outputs": [
    {
     "data": {
      "image/png": "[encoded data removed]",
      "text/plain": [
       "<Figure size 432x288 with 1 Axes>"
      ]
     },
     "metadata": {
      "needs_background": "light"
     },
     "output_type": "display_data"
    }
   ],
   "source": [
    "#distplot\n",
    "import matplotlib.pyplot as plt\n",
    "epochs =[i+1 for i in range(20)]\n",
    "plt.plot(epochs,tr_accuracy_list, color='red', label='Train')\n",
    "plt.plot(epochs,accuracy_list, '--', color='blue', label='Valid')\n",
    "#plt.title('CrossEntropy') # title\n",
    "plt.ylabel(\"accuracy\") # y label\n",
    "plt.xlabel(\"Epochs\") # x label\n",
    "plt.legend() #圖例\n",
    "#plt.savefig('.\\\\Model\\\\0618\\\\t_model_' + str(isbalence) + 'bz' + str(batch_sizes) + '_' + str(num_epochs) + '.png') #儲存圖檔\n",
    "#plt.savefig('.\\\\Model\\\\0618\\\\實驗' + str(testnum) + '.png') #儲存圖檔\n",
    "plt.show()"
   ]
  },
  {
   "cell_type": "code",
   "execution_count": 13,
   "metadata": {},
   "outputs": [],
   "source": [
    "torch.save(model.state_dict(), \"VGG16_0809_ncrop.pt\")\n"
   ]
  }
 ],
 "metadata": {
  "kernelspec": {
   "display_name": "Python 3",
   "language": "python",
   "name": "python3"
  },
  "language_info": {
   "codemirror_mode": {
    "name": "ipython",
    "version": 3
   },
   "file_extension": ".py",
   "mimetype": "text/x-python",
   "name": "python",
   "nbconvert_exporter": "python",
   "pygments_lexer": "ipython3",
   "version": "3.7.4"
  },
  "orig_nbformat": 4,
  "vscode": {
   "interpreter": {
    "hash": "aee8b7b246df8f9039afb4144a1f6fd8d2ca17a180786b69acc140d282b71a49"
   }
  }
 },
 "nbformat": 4,
 "nbformat_minor": 2
}
